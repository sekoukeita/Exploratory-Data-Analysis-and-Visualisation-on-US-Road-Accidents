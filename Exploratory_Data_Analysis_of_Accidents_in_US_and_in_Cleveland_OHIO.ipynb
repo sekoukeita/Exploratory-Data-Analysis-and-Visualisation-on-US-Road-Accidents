{
  "nbformat": 4,
  "nbformat_minor": 0,
  "metadata": {
    "colab": {
      "name": "Exploratory Data Analysis of Accidents in US and in Cleveland OHIO.ipynb",
      "provenance": [],
      "collapsed_sections": [],
      "toc_visible": true,
      "machine_shape": "hm",
      "authorship_tag": "ABX9TyOhAjGMulHesoN71y6mhQHi",
      "include_colab_link": true
    },
    "kernelspec": {
      "name": "python3",
      "display_name": "Python 3"
    }
  },
  "cells": [
    {
      "cell_type": "markdown",
      "metadata": {
        "id": "view-in-github",
        "colab_type": "text"
      },
      "source": [
        "<a href=\"https://colab.research.google.com/github/sekoukeita/Exploratory-Data-Analysis-and-Visualisation-on-US-Road-Accidents/blob/master/Exploratory_Data_Analysis_of_Accidents_in_US_and_in_Cleveland_OHIO.ipynb\" target=\"_parent\"><img src=\"https://colab.research.google.com/assets/colab-badge.svg\" alt=\"Open In Colab\"/></a>"
      ]
    },
    {
      "cell_type": "markdown",
      "metadata": {
        "id": "Yajx9isHANXU",
        "colab_type": "text"
      },
      "source": [
        "# Analysing Roads Accidents in US and in the City of Cleveland Ohio."
      ]
    },
    {
      "cell_type": "markdown",
      "metadata": {
        "id": "hcl6SihSBL41",
        "colab_type": "text"
      },
      "source": [
        "In order to do this analysis, I get a public data from [Kaggle](https://www.kaggle.com/). This [data](https://www.kaggle.com/sobhanmoosavi/us-accidents) is a compilation of about 3 millions roads accidents records gathered from February 2016 to December 2019, from the 49 contiguous states of United States (Alaska and Haiti are not included).\n",
        "Using Exploratory data analysis (data manipulation and visualization), I will first try to respond to some questions about accidents in the whole United states and then focus on my home city, Cleveland Ohio, to go a little deeper in the analysis."
      ]
    },
    {
      "cell_type": "markdown",
      "metadata": {
        "id": "8-BGqPdTDxyL",
        "colab_type": "text"
      },
      "source": [
        "# Part 1 : Accidents in the United States"
      ]
    },
    {
      "cell_type": "code",
      "metadata": {
        "id": "ic2h9wPMOMgO",
        "colab_type": "code",
        "colab": {}
      },
      "source": [
        "# Import libraries\n",
        "import numpy as np\n",
        "import pandas as pd\n",
        "import matplotlib.pyplot as plt\n",
        "%matplotlib inline\n",
        "import seaborn as sns\n",
        "sns.set_style('whitegrid')\n",
        "\n",
        "from plotly.offline import iplot, init_notebook_mode\n",
        "import plotly.graph_objs as go"
      ],
      "execution_count": 0,
      "outputs": []
    },
    {
      "cell_type": "code",
      "metadata": {
        "id": "7DzFrgM0OfN6",
        "colab_type": "code",
        "outputId": "ed51ed47-f6eb-46fa-8e8a-e95341deb730",
        "colab": {
          "base_uri": "https://localhost:8080/",
          "height": 122
        }
      },
      "source": [
        "# This cell has been automatically added by google colab to connect the  notebook with the google Drive account where the data is stored.\n",
        "from google.colab import drive\n",
        "drive.mount('/content/drive')"
      ],
      "execution_count": 0,
      "outputs": [
        {
          "output_type": "stream",
          "text": [
            "Go to this URL in a browser: https://accounts.google.com/o/oauth2/auth?client_id=947318989803-6bn6qk8qdgf4n4g3pfee6491hc0brc4i.apps.googleusercontent.com&redirect_uri=urn%3aietf%3awg%3aoauth%3a2.0%3aoob&response_type=code&scope=email%20https%3a%2f%2fwww.googleapis.com%2fauth%2fdocs.test%20https%3a%2f%2fwww.googleapis.com%2fauth%2fdrive%20https%3a%2f%2fwww.googleapis.com%2fauth%2fdrive.photos.readonly%20https%3a%2f%2fwww.googleapis.com%2fauth%2fpeopleapi.readonly\n",
            "\n",
            "Enter your authorization code:\n",
            "··········\n",
            "Mounted at /content/drive\n"
          ],
          "name": "stdout"
        }
      ]
    },
    {
      "cell_type": "markdown",
      "metadata": {
        "id": "ZLONk6HBiNbZ",
        "colab_type": "text"
      },
      "source": [
        "## What are the top 10 States in term of accidents"
      ]
    },
    {
      "cell_type": "code",
      "metadata": {
        "id": "QjeLYC4BOgVR",
        "colab_type": "code",
        "outputId": "033b57b9-6a2b-4298-dc3c-593a26f1c5f7",
        "colab": {
          "base_uri": "https://localhost:8080/",
          "height": 530
        }
      },
      "source": [
        "# Load the data.\n",
        "df_accidents = pd.read_csv('/content/drive/My Drive/Data Science Projects/Accident_Analysis/US_Accidents_Dec19.csv')\n",
        "df_accidents.head(5)"
      ],
      "execution_count": 0,
      "outputs": [
        {
          "output_type": "execute_result",
          "data": {
            "text/html": [
              "<div>\n",
              "<style scoped>\n",
              "    .dataframe tbody tr th:only-of-type {\n",
              "        vertical-align: middle;\n",
              "    }\n",
              "\n",
              "    .dataframe tbody tr th {\n",
              "        vertical-align: top;\n",
              "    }\n",
              "\n",
              "    .dataframe thead th {\n",
              "        text-align: right;\n",
              "    }\n",
              "</style>\n",
              "<table border=\"1\" class=\"dataframe\">\n",
              "  <thead>\n",
              "    <tr style=\"text-align: right;\">\n",
              "      <th></th>\n",
              "      <th>ID</th>\n",
              "      <th>Source</th>\n",
              "      <th>TMC</th>\n",
              "      <th>Severity</th>\n",
              "      <th>Start_Time</th>\n",
              "      <th>End_Time</th>\n",
              "      <th>Start_Lat</th>\n",
              "      <th>Start_Lng</th>\n",
              "      <th>End_Lat</th>\n",
              "      <th>End_Lng</th>\n",
              "      <th>Distance(mi)</th>\n",
              "      <th>Description</th>\n",
              "      <th>Number</th>\n",
              "      <th>Street</th>\n",
              "      <th>Side</th>\n",
              "      <th>City</th>\n",
              "      <th>County</th>\n",
              "      <th>State</th>\n",
              "      <th>Zipcode</th>\n",
              "      <th>Country</th>\n",
              "      <th>Timezone</th>\n",
              "      <th>Airport_Code</th>\n",
              "      <th>Weather_Timestamp</th>\n",
              "      <th>Temperature(F)</th>\n",
              "      <th>Wind_Chill(F)</th>\n",
              "      <th>Humidity(%)</th>\n",
              "      <th>Pressure(in)</th>\n",
              "      <th>Visibility(mi)</th>\n",
              "      <th>Wind_Direction</th>\n",
              "      <th>Wind_Speed(mph)</th>\n",
              "      <th>Precipitation(in)</th>\n",
              "      <th>Weather_Condition</th>\n",
              "      <th>Amenity</th>\n",
              "      <th>Bump</th>\n",
              "      <th>Crossing</th>\n",
              "      <th>Give_Way</th>\n",
              "      <th>Junction</th>\n",
              "      <th>No_Exit</th>\n",
              "      <th>Railway</th>\n",
              "      <th>Roundabout</th>\n",
              "      <th>Station</th>\n",
              "      <th>Stop</th>\n",
              "      <th>Traffic_Calming</th>\n",
              "      <th>Traffic_Signal</th>\n",
              "      <th>Turning_Loop</th>\n",
              "      <th>Sunrise_Sunset</th>\n",
              "      <th>Civil_Twilight</th>\n",
              "      <th>Nautical_Twilight</th>\n",
              "      <th>Astronomical_Twilight</th>\n",
              "    </tr>\n",
              "  </thead>\n",
              "  <tbody>\n",
              "    <tr>\n",
              "      <th>0</th>\n",
              "      <td>A-1</td>\n",
              "      <td>MapQuest</td>\n",
              "      <td>201.0</td>\n",
              "      <td>3</td>\n",
              "      <td>2016-02-08 05:46:00</td>\n",
              "      <td>2016-02-08 11:00:00</td>\n",
              "      <td>39.865147</td>\n",
              "      <td>-84.058723</td>\n",
              "      <td>NaN</td>\n",
              "      <td>NaN</td>\n",
              "      <td>0.01</td>\n",
              "      <td>Right lane blocked due to accident on I-70 Eas...</td>\n",
              "      <td>NaN</td>\n",
              "      <td>I-70 E</td>\n",
              "      <td>R</td>\n",
              "      <td>Dayton</td>\n",
              "      <td>Montgomery</td>\n",
              "      <td>OH</td>\n",
              "      <td>45424</td>\n",
              "      <td>US</td>\n",
              "      <td>US/Eastern</td>\n",
              "      <td>KFFO</td>\n",
              "      <td>2016-02-08 05:58:00</td>\n",
              "      <td>36.9</td>\n",
              "      <td>NaN</td>\n",
              "      <td>91.0</td>\n",
              "      <td>29.68</td>\n",
              "      <td>10.0</td>\n",
              "      <td>Calm</td>\n",
              "      <td>NaN</td>\n",
              "      <td>0.02</td>\n",
              "      <td>Light Rain</td>\n",
              "      <td>False</td>\n",
              "      <td>False</td>\n",
              "      <td>False</td>\n",
              "      <td>False</td>\n",
              "      <td>False</td>\n",
              "      <td>False</td>\n",
              "      <td>False</td>\n",
              "      <td>False</td>\n",
              "      <td>False</td>\n",
              "      <td>False</td>\n",
              "      <td>False</td>\n",
              "      <td>False</td>\n",
              "      <td>False</td>\n",
              "      <td>Night</td>\n",
              "      <td>Night</td>\n",
              "      <td>Night</td>\n",
              "      <td>Night</td>\n",
              "    </tr>\n",
              "    <tr>\n",
              "      <th>1</th>\n",
              "      <td>A-2</td>\n",
              "      <td>MapQuest</td>\n",
              "      <td>201.0</td>\n",
              "      <td>2</td>\n",
              "      <td>2016-02-08 06:07:59</td>\n",
              "      <td>2016-02-08 06:37:59</td>\n",
              "      <td>39.928059</td>\n",
              "      <td>-82.831184</td>\n",
              "      <td>NaN</td>\n",
              "      <td>NaN</td>\n",
              "      <td>0.01</td>\n",
              "      <td>Accident on Brice Rd at Tussing Rd. Expect del...</td>\n",
              "      <td>2584.0</td>\n",
              "      <td>Brice Rd</td>\n",
              "      <td>L</td>\n",
              "      <td>Reynoldsburg</td>\n",
              "      <td>Franklin</td>\n",
              "      <td>OH</td>\n",
              "      <td>43068-3402</td>\n",
              "      <td>US</td>\n",
              "      <td>US/Eastern</td>\n",
              "      <td>KCMH</td>\n",
              "      <td>2016-02-08 05:51:00</td>\n",
              "      <td>37.9</td>\n",
              "      <td>NaN</td>\n",
              "      <td>100.0</td>\n",
              "      <td>29.65</td>\n",
              "      <td>10.0</td>\n",
              "      <td>Calm</td>\n",
              "      <td>NaN</td>\n",
              "      <td>0.00</td>\n",
              "      <td>Light Rain</td>\n",
              "      <td>False</td>\n",
              "      <td>False</td>\n",
              "      <td>False</td>\n",
              "      <td>False</td>\n",
              "      <td>False</td>\n",
              "      <td>False</td>\n",
              "      <td>False</td>\n",
              "      <td>False</td>\n",
              "      <td>False</td>\n",
              "      <td>False</td>\n",
              "      <td>False</td>\n",
              "      <td>False</td>\n",
              "      <td>False</td>\n",
              "      <td>Night</td>\n",
              "      <td>Night</td>\n",
              "      <td>Night</td>\n",
              "      <td>Day</td>\n",
              "    </tr>\n",
              "    <tr>\n",
              "      <th>2</th>\n",
              "      <td>A-3</td>\n",
              "      <td>MapQuest</td>\n",
              "      <td>201.0</td>\n",
              "      <td>2</td>\n",
              "      <td>2016-02-08 06:49:27</td>\n",
              "      <td>2016-02-08 07:19:27</td>\n",
              "      <td>39.063148</td>\n",
              "      <td>-84.032608</td>\n",
              "      <td>NaN</td>\n",
              "      <td>NaN</td>\n",
              "      <td>0.01</td>\n",
              "      <td>Accident on OH-32 State Route 32 Westbound at ...</td>\n",
              "      <td>NaN</td>\n",
              "      <td>State Route 32</td>\n",
              "      <td>R</td>\n",
              "      <td>Williamsburg</td>\n",
              "      <td>Clermont</td>\n",
              "      <td>OH</td>\n",
              "      <td>45176</td>\n",
              "      <td>US</td>\n",
              "      <td>US/Eastern</td>\n",
              "      <td>KI69</td>\n",
              "      <td>2016-02-08 06:56:00</td>\n",
              "      <td>36.0</td>\n",
              "      <td>33.3</td>\n",
              "      <td>100.0</td>\n",
              "      <td>29.67</td>\n",
              "      <td>10.0</td>\n",
              "      <td>SW</td>\n",
              "      <td>3.5</td>\n",
              "      <td>NaN</td>\n",
              "      <td>Overcast</td>\n",
              "      <td>False</td>\n",
              "      <td>False</td>\n",
              "      <td>False</td>\n",
              "      <td>False</td>\n",
              "      <td>False</td>\n",
              "      <td>False</td>\n",
              "      <td>False</td>\n",
              "      <td>False</td>\n",
              "      <td>False</td>\n",
              "      <td>False</td>\n",
              "      <td>False</td>\n",
              "      <td>True</td>\n",
              "      <td>False</td>\n",
              "      <td>Night</td>\n",
              "      <td>Night</td>\n",
              "      <td>Day</td>\n",
              "      <td>Day</td>\n",
              "    </tr>\n",
              "    <tr>\n",
              "      <th>3</th>\n",
              "      <td>A-4</td>\n",
              "      <td>MapQuest</td>\n",
              "      <td>201.0</td>\n",
              "      <td>3</td>\n",
              "      <td>2016-02-08 07:23:34</td>\n",
              "      <td>2016-02-08 07:53:34</td>\n",
              "      <td>39.747753</td>\n",
              "      <td>-84.205582</td>\n",
              "      <td>NaN</td>\n",
              "      <td>NaN</td>\n",
              "      <td>0.01</td>\n",
              "      <td>Accident on I-75 Southbound at Exits 52 52B US...</td>\n",
              "      <td>NaN</td>\n",
              "      <td>I-75 S</td>\n",
              "      <td>R</td>\n",
              "      <td>Dayton</td>\n",
              "      <td>Montgomery</td>\n",
              "      <td>OH</td>\n",
              "      <td>45417</td>\n",
              "      <td>US</td>\n",
              "      <td>US/Eastern</td>\n",
              "      <td>KDAY</td>\n",
              "      <td>2016-02-08 07:38:00</td>\n",
              "      <td>35.1</td>\n",
              "      <td>31.0</td>\n",
              "      <td>96.0</td>\n",
              "      <td>29.64</td>\n",
              "      <td>9.0</td>\n",
              "      <td>SW</td>\n",
              "      <td>4.6</td>\n",
              "      <td>NaN</td>\n",
              "      <td>Mostly Cloudy</td>\n",
              "      <td>False</td>\n",
              "      <td>False</td>\n",
              "      <td>False</td>\n",
              "      <td>False</td>\n",
              "      <td>False</td>\n",
              "      <td>False</td>\n",
              "      <td>False</td>\n",
              "      <td>False</td>\n",
              "      <td>False</td>\n",
              "      <td>False</td>\n",
              "      <td>False</td>\n",
              "      <td>False</td>\n",
              "      <td>False</td>\n",
              "      <td>Night</td>\n",
              "      <td>Day</td>\n",
              "      <td>Day</td>\n",
              "      <td>Day</td>\n",
              "    </tr>\n",
              "    <tr>\n",
              "      <th>4</th>\n",
              "      <td>A-5</td>\n",
              "      <td>MapQuest</td>\n",
              "      <td>201.0</td>\n",
              "      <td>2</td>\n",
              "      <td>2016-02-08 07:39:07</td>\n",
              "      <td>2016-02-08 08:09:07</td>\n",
              "      <td>39.627781</td>\n",
              "      <td>-84.188354</td>\n",
              "      <td>NaN</td>\n",
              "      <td>NaN</td>\n",
              "      <td>0.01</td>\n",
              "      <td>Accident on McEwen Rd at OH-725 Miamisburg Cen...</td>\n",
              "      <td>NaN</td>\n",
              "      <td>Miamisburg Centerville Rd</td>\n",
              "      <td>R</td>\n",
              "      <td>Dayton</td>\n",
              "      <td>Montgomery</td>\n",
              "      <td>OH</td>\n",
              "      <td>45459</td>\n",
              "      <td>US</td>\n",
              "      <td>US/Eastern</td>\n",
              "      <td>KMGY</td>\n",
              "      <td>2016-02-08 07:53:00</td>\n",
              "      <td>36.0</td>\n",
              "      <td>33.3</td>\n",
              "      <td>89.0</td>\n",
              "      <td>29.65</td>\n",
              "      <td>6.0</td>\n",
              "      <td>SW</td>\n",
              "      <td>3.5</td>\n",
              "      <td>NaN</td>\n",
              "      <td>Mostly Cloudy</td>\n",
              "      <td>False</td>\n",
              "      <td>False</td>\n",
              "      <td>False</td>\n",
              "      <td>False</td>\n",
              "      <td>False</td>\n",
              "      <td>False</td>\n",
              "      <td>False</td>\n",
              "      <td>False</td>\n",
              "      <td>False</td>\n",
              "      <td>False</td>\n",
              "      <td>False</td>\n",
              "      <td>True</td>\n",
              "      <td>False</td>\n",
              "      <td>Day</td>\n",
              "      <td>Day</td>\n",
              "      <td>Day</td>\n",
              "      <td>Day</td>\n",
              "    </tr>\n",
              "  </tbody>\n",
              "</table>\n",
              "</div>"
            ],
            "text/plain": [
              "    ID    Source    TMC  ...  Civil_Twilight Nautical_Twilight Astronomical_Twilight\n",
              "0  A-1  MapQuest  201.0  ...           Night             Night                 Night\n",
              "1  A-2  MapQuest  201.0  ...           Night             Night                   Day\n",
              "2  A-3  MapQuest  201.0  ...           Night               Day                   Day\n",
              "3  A-4  MapQuest  201.0  ...             Day               Day                   Day\n",
              "4  A-5  MapQuest  201.0  ...             Day               Day                   Day\n",
              "\n",
              "[5 rows x 49 columns]"
            ]
          },
          "metadata": {
            "tags": []
          },
          "execution_count": 3
        }
      ]
    },
    {
      "cell_type": "code",
      "metadata": {
        "id": "HhgfNu0RV5DJ",
        "colab_type": "code",
        "outputId": "a1a154e8-76ca-4cb3-8c4f-bbc6e1ab36f4",
        "colab": {
          "base_uri": "https://localhost:8080/",
          "height": 119
        }
      },
      "source": [
        "# A serie with states abbr as labels and numbers of accidents as values.\n",
        "accidents_per_state = df_accidents['State'].value_counts().sort_values(ascending=False)\n",
        "accidents_per_state.head()"
      ],
      "execution_count": 0,
      "outputs": [
        {
          "output_type": "execute_result",
          "data": {
            "text/plain": [
              "CA    663204\n",
              "TX    298062\n",
              "FL    223746\n",
              "SC    146689\n",
              "NC    142460\n",
              "Name: State, dtype: int64"
            ]
          },
          "metadata": {
            "tags": []
          },
          "execution_count": 4
        }
      ]
    },
    {
      "cell_type": "code",
      "metadata": {
        "id": "fEZI52hI27xJ",
        "colab_type": "code",
        "colab": {}
      },
      "source": [
        "# Dictionary of US states and territories copied from internet to map the States' abbreviations with to get the state full names.\n",
        "states_terrirories = {\n",
        "        'AK': 'Alaska',\n",
        "        'AL': 'Alabama',\n",
        "        'AR': 'Arkansas',\n",
        "        'AS': 'American Samoa',\n",
        "        'AZ': 'Arizona',\n",
        "        'CA': 'California',\n",
        "        'CO': 'Colorado',\n",
        "        'CT': 'Connecticut',\n",
        "        'DC': 'District of Columbia',\n",
        "        'DE': 'Delaware',\n",
        "        'FL': 'Florida',\n",
        "        'GA': 'Georgia',\n",
        "        'GU': 'Guam',\n",
        "        'HI': 'Hawaii',\n",
        "        'IA': 'Iowa',\n",
        "        'ID': 'Idaho',\n",
        "        'IL': 'Illinois',\n",
        "        'IN': 'Indiana',\n",
        "        'KS': 'Kansas',\n",
        "        'KY': 'Kentucky',\n",
        "        'LA': 'Louisiana',\n",
        "        'MA': 'Massachusetts',\n",
        "        'MD': 'Maryland',\n",
        "        'ME': 'Maine',\n",
        "        'MI': 'Michigan',\n",
        "        'MN': 'Minnesota',\n",
        "        'MO': 'Missouri',\n",
        "        'MP': 'Northern Mariana Islands',\n",
        "        'MS': 'Mississippi',\n",
        "        'MT': 'Montana',\n",
        "        'NA': 'National',\n",
        "        'NC': 'North Carolina',\n",
        "        'ND': 'North Dakota',\n",
        "        'NE': 'Nebraska',\n",
        "        'NH': 'New Hampshire',\n",
        "        'NJ': 'New Jersey',\n",
        "        'NM': 'New Mexico',\n",
        "        'NV': 'Nevada',\n",
        "        'NY': 'New York',\n",
        "        'OH': 'Ohio',\n",
        "        'OK': 'Oklahoma',\n",
        "        'OR': 'Oregon',\n",
        "        'PA': 'Pennsylvania',\n",
        "        'PR': 'Puerto Rico',\n",
        "        'RI': 'Rhode Island',\n",
        "        'SC': 'South Carolina',\n",
        "        'SD': 'South Dakota',\n",
        "        'TN': 'Tennessee',\n",
        "        'TX': 'Texas',\n",
        "        'UT': 'Utah',\n",
        "        'VA': 'Virginia',\n",
        "        'VI': 'Virgin Islands',\n",
        "        'VT': 'Vermont',\n",
        "        'WA': 'Washington',\n",
        "        'WI': 'Wisconsin',\n",
        "        'WV': 'West Virginia',\n",
        "        'WY': 'Wyoming'\n",
        "}"
      ],
      "execution_count": 0,
      "outputs": []
    },
    {
      "cell_type": "code",
      "metadata": {
        "id": "ckIREFw32CT-",
        "colab_type": "code",
        "colab": {}
      },
      "source": [
        "# Create the DataFrame accidents per state.\n",
        "df_accidents_per_state = pd.DataFrame({'State': accidents_per_state.index.map(states_terrirories), \n",
        "                                       'Abbr': accidents_per_state.index, 'Number Of Accidents': accidents_per_state.values})\n",
        "# Add the column Percentage to the DataFrame.\n",
        "df_accidents_per_state['Percentage'] = df_accidents_per_state['Number Of Accidents'].\\\n",
        "                                        apply(lambda x: '{:05.2f}'.format(x/len(df_accidents['ID'])*100))"
      ],
      "execution_count": 0,
      "outputs": []
    },
    {
      "cell_type": "code",
      "metadata": {
        "id": "AGJ-DhqV2CHD",
        "colab_type": "code",
        "outputId": "0676e274-b702-43fd-b56a-76134decc154",
        "colab": {
          "base_uri": "https://localhost:8080/",
          "height": 359
        }
      },
      "source": [
        "# Display the top 10 States in term of accidents.\n",
        "rank = np.arange(1,11)\n",
        "df_top10_states = df_accidents_per_state.head(10).set_index(rank)\n",
        "df_top10_states"
      ],
      "execution_count": 0,
      "outputs": [
        {
          "output_type": "execute_result",
          "data": {
            "text/html": [
              "<div>\n",
              "<style scoped>\n",
              "    .dataframe tbody tr th:only-of-type {\n",
              "        vertical-align: middle;\n",
              "    }\n",
              "\n",
              "    .dataframe tbody tr th {\n",
              "        vertical-align: top;\n",
              "    }\n",
              "\n",
              "    .dataframe thead th {\n",
              "        text-align: right;\n",
              "    }\n",
              "</style>\n",
              "<table border=\"1\" class=\"dataframe\">\n",
              "  <thead>\n",
              "    <tr style=\"text-align: right;\">\n",
              "      <th></th>\n",
              "      <th>State</th>\n",
              "      <th>Abbr</th>\n",
              "      <th>Number Of Accidents</th>\n",
              "      <th>Percentage</th>\n",
              "    </tr>\n",
              "  </thead>\n",
              "  <tbody>\n",
              "    <tr>\n",
              "      <th>1</th>\n",
              "      <td>California</td>\n",
              "      <td>CA</td>\n",
              "      <td>663204</td>\n",
              "      <td>22.30</td>\n",
              "    </tr>\n",
              "    <tr>\n",
              "      <th>2</th>\n",
              "      <td>Texas</td>\n",
              "      <td>TX</td>\n",
              "      <td>298062</td>\n",
              "      <td>10.02</td>\n",
              "    </tr>\n",
              "    <tr>\n",
              "      <th>3</th>\n",
              "      <td>Florida</td>\n",
              "      <td>FL</td>\n",
              "      <td>223746</td>\n",
              "      <td>07.52</td>\n",
              "    </tr>\n",
              "    <tr>\n",
              "      <th>4</th>\n",
              "      <td>South Carolina</td>\n",
              "      <td>SC</td>\n",
              "      <td>146689</td>\n",
              "      <td>04.93</td>\n",
              "    </tr>\n",
              "    <tr>\n",
              "      <th>5</th>\n",
              "      <td>North Carolina</td>\n",
              "      <td>NC</td>\n",
              "      <td>142460</td>\n",
              "      <td>04.79</td>\n",
              "    </tr>\n",
              "    <tr>\n",
              "      <th>6</th>\n",
              "      <td>New York</td>\n",
              "      <td>NY</td>\n",
              "      <td>137799</td>\n",
              "      <td>04.63</td>\n",
              "    </tr>\n",
              "    <tr>\n",
              "      <th>7</th>\n",
              "      <td>Pennsylvania</td>\n",
              "      <td>PA</td>\n",
              "      <td>90395</td>\n",
              "      <td>03.04</td>\n",
              "    </tr>\n",
              "    <tr>\n",
              "      <th>8</th>\n",
              "      <td>Michigan</td>\n",
              "      <td>MI</td>\n",
              "      <td>88694</td>\n",
              "      <td>02.98</td>\n",
              "    </tr>\n",
              "    <tr>\n",
              "      <th>9</th>\n",
              "      <td>Illinois</td>\n",
              "      <td>IL</td>\n",
              "      <td>86390</td>\n",
              "      <td>02.90</td>\n",
              "    </tr>\n",
              "    <tr>\n",
              "      <th>10</th>\n",
              "      <td>Georgia</td>\n",
              "      <td>GA</td>\n",
              "      <td>83620</td>\n",
              "      <td>02.81</td>\n",
              "    </tr>\n",
              "  </tbody>\n",
              "</table>\n",
              "</div>"
            ],
            "text/plain": [
              "             State Abbr  Number Of Accidents Percentage\n",
              "1       California   CA               663204      22.30\n",
              "2            Texas   TX               298062      10.02\n",
              "3          Florida   FL               223746      07.52\n",
              "4   South Carolina   SC               146689      04.93\n",
              "5   North Carolina   NC               142460      04.79\n",
              "6         New York   NY               137799      04.63\n",
              "7     Pennsylvania   PA                90395      03.04\n",
              "8         Michigan   MI                88694      02.98\n",
              "9         Illinois   IL                86390      02.90\n",
              "10         Georgia   GA                83620      02.81"
            ]
          },
          "metadata": {
            "tags": []
          },
          "execution_count": 7
        }
      ]
    },
    {
      "cell_type": "code",
      "metadata": {
        "id": "f0U6FZ_7sMel",
        "colab_type": "code",
        "outputId": "4d7b6713-4cca-4179-daee-a1156c8493b6",
        "colab": {
          "base_uri": "https://localhost:8080/",
          "height": 34
        }
      },
      "source": [
        "rate_5_states = df_top10_states.head(5)['Number Of Accidents'].sum()/len(df_accidents['ID'])*100\n",
        "print('Comment: Almost 50 % ({:05.2f} %) of all the US accidents occur in the top 5 states.'.format(rate_5_states))"
      ],
      "execution_count": 0,
      "outputs": [
        {
          "output_type": "stream",
          "text": [
            "Comment: Almost 50 % (49.56 %) of all the US accidents occur in the top 5 states.\n"
          ],
          "name": "stdout"
        }
      ]
    },
    {
      "cell_type": "markdown",
      "metadata": {
        "id": "qfuL4z2Pm4yY",
        "colab_type": "text"
      },
      "source": [
        "## What are the top 10 cities in term of accidents?"
      ]
    },
    {
      "cell_type": "code",
      "metadata": {
        "id": "IDJocKH-Bq_q",
        "colab_type": "code",
        "colab": {}
      },
      "source": [
        "# We can't use value_counts() for city like we did in the case of states.\n",
        "# Cities name are not unique over the United States but seem to be unique by state.\n",
        "# Let's use groupby state and city then create the DataFrame accidents per city.\n",
        "df_city = df_accidents[['ID','State','City']]"
      ],
      "execution_count": 0,
      "outputs": []
    },
    {
      "cell_type": "code",
      "metadata": {
        "id": "xLc2mFFBOvmA",
        "colab_type": "code",
        "outputId": "3ff3a5c9-1b2f-4a39-bf53-a75e3d20ffe0",
        "colab": {
          "base_uri": "https://localhost:8080/",
          "height": 450
        }
      },
      "source": [
        "# The groupby DataFrame\n",
        "df_city = df_city.groupby(['State','City']).count()\n",
        "df_city"
      ],
      "execution_count": 0,
      "outputs": [
        {
          "output_type": "execute_result",
          "data": {
            "text/html": [
              "<div>\n",
              "<style scoped>\n",
              "    .dataframe tbody tr th:only-of-type {\n",
              "        vertical-align: middle;\n",
              "    }\n",
              "\n",
              "    .dataframe tbody tr th {\n",
              "        vertical-align: top;\n",
              "    }\n",
              "\n",
              "    .dataframe thead th {\n",
              "        text-align: right;\n",
              "    }\n",
              "</style>\n",
              "<table border=\"1\" class=\"dataframe\">\n",
              "  <thead>\n",
              "    <tr style=\"text-align: right;\">\n",
              "      <th></th>\n",
              "      <th></th>\n",
              "      <th>ID</th>\n",
              "    </tr>\n",
              "    <tr>\n",
              "      <th>State</th>\n",
              "      <th>City</th>\n",
              "      <th></th>\n",
              "    </tr>\n",
              "  </thead>\n",
              "  <tbody>\n",
              "    <tr>\n",
              "      <th rowspan=\"5\" valign=\"top\">AL</th>\n",
              "      <th>Abbeville</th>\n",
              "      <td>6</td>\n",
              "    </tr>\n",
              "    <tr>\n",
              "      <th>Adamsville</th>\n",
              "      <td>9</td>\n",
              "    </tr>\n",
              "    <tr>\n",
              "      <th>Addison</th>\n",
              "      <td>4</td>\n",
              "    </tr>\n",
              "    <tr>\n",
              "      <th>Alabaster</th>\n",
              "      <td>149</td>\n",
              "    </tr>\n",
              "    <tr>\n",
              "      <th>Albertville</th>\n",
              "      <td>21</td>\n",
              "    </tr>\n",
              "    <tr>\n",
              "      <th>...</th>\n",
              "      <th>...</th>\n",
              "      <td>...</td>\n",
              "    </tr>\n",
              "    <tr>\n",
              "      <th rowspan=\"5\" valign=\"top\">WY</th>\n",
              "      <th>Torrington</th>\n",
              "      <td>4</td>\n",
              "    </tr>\n",
              "    <tr>\n",
              "      <th>Wamsutter</th>\n",
              "      <td>24</td>\n",
              "    </tr>\n",
              "    <tr>\n",
              "      <th>Wheatland</th>\n",
              "      <td>10</td>\n",
              "    </tr>\n",
              "    <tr>\n",
              "      <th>Wilson</th>\n",
              "      <td>2</td>\n",
              "    </tr>\n",
              "    <tr>\n",
              "      <th>Worland</th>\n",
              "      <td>1</td>\n",
              "    </tr>\n",
              "  </tbody>\n",
              "</table>\n",
              "<p>16884 rows × 1 columns</p>\n",
              "</div>"
            ],
            "text/plain": [
              "                    ID\n",
              "State City            \n",
              "AL    Abbeville      6\n",
              "      Adamsville     9\n",
              "      Addison        4\n",
              "      Alabaster    149\n",
              "      Albertville   21\n",
              "...                ...\n",
              "WY    Torrington     4\n",
              "      Wamsutter     24\n",
              "      Wheatland     10\n",
              "      Wilson         2\n",
              "      Worland        1\n",
              "\n",
              "[16884 rows x 1 columns]"
            ]
          },
          "metadata": {
            "tags": []
          },
          "execution_count": 10
        }
      ]
    },
    {
      "cell_type": "code",
      "metadata": {
        "id": "pUwkMVcoQCyF",
        "colab_type": "code",
        "colab": {}
      },
      "source": [
        "# The method index.get_level_values(level) allows to get a serie from a multi-index according to the given level.\n",
        "# Create the DataFrame accidents per city\n",
        "df_accidents_per_city = pd.DataFrame({'City': df_city.index.get_level_values(1),'State': df_city.index.get_level_values(0).map(states_terrirories),\n",
        "                                       'Number Of Accidents': df_city['ID']}).reset_index(drop=True)\n",
        "df_accidents_per_city['Percentage'] = df_accidents_per_city['Number Of Accidents'].\\\n",
        "                                        apply(lambda x: '{:05.2f}'.format(x/len(df_accidents['ID'])*100))"
      ],
      "execution_count": 0,
      "outputs": []
    },
    {
      "cell_type": "code",
      "metadata": {
        "id": "w8qtw4_vOva8",
        "colab_type": "code",
        "outputId": "92acf942-e1a6-432d-8e55-bbf34cadde9a",
        "colab": {
          "base_uri": "https://localhost:8080/",
          "height": 359
        }
      },
      "source": [
        "df_top10_cities = df_accidents_per_city.sort_values(by='Number Of Accidents',ascending=False).head(10).set_index(rank)\n",
        "df_top10_cities"
      ],
      "execution_count": 0,
      "outputs": [
        {
          "output_type": "execute_result",
          "data": {
            "text/html": [
              "<div>\n",
              "<style scoped>\n",
              "    .dataframe tbody tr th:only-of-type {\n",
              "        vertical-align: middle;\n",
              "    }\n",
              "\n",
              "    .dataframe tbody tr th {\n",
              "        vertical-align: top;\n",
              "    }\n",
              "\n",
              "    .dataframe thead th {\n",
              "        text-align: right;\n",
              "    }\n",
              "</style>\n",
              "<table border=\"1\" class=\"dataframe\">\n",
              "  <thead>\n",
              "    <tr style=\"text-align: right;\">\n",
              "      <th></th>\n",
              "      <th>City</th>\n",
              "      <th>State</th>\n",
              "      <th>Number Of Accidents</th>\n",
              "      <th>Percentage</th>\n",
              "    </tr>\n",
              "  </thead>\n",
              "  <tbody>\n",
              "    <tr>\n",
              "      <th>1</th>\n",
              "      <td>Houston</td>\n",
              "      <td>Texas</td>\n",
              "      <td>93245</td>\n",
              "      <td>03.13</td>\n",
              "    </tr>\n",
              "    <tr>\n",
              "      <th>2</th>\n",
              "      <td>Charlotte</td>\n",
              "      <td>North Carolina</td>\n",
              "      <td>67917</td>\n",
              "      <td>02.28</td>\n",
              "    </tr>\n",
              "    <tr>\n",
              "      <th>3</th>\n",
              "      <td>Los Angeles</td>\n",
              "      <td>California</td>\n",
              "      <td>65851</td>\n",
              "      <td>02.21</td>\n",
              "    </tr>\n",
              "    <tr>\n",
              "      <th>4</th>\n",
              "      <td>Austin</td>\n",
              "      <td>Texas</td>\n",
              "      <td>58553</td>\n",
              "      <td>01.97</td>\n",
              "    </tr>\n",
              "    <tr>\n",
              "      <th>5</th>\n",
              "      <td>Dallas</td>\n",
              "      <td>Texas</td>\n",
              "      <td>57823</td>\n",
              "      <td>01.94</td>\n",
              "    </tr>\n",
              "    <tr>\n",
              "      <th>6</th>\n",
              "      <td>Raleigh</td>\n",
              "      <td>North Carolina</td>\n",
              "      <td>39623</td>\n",
              "      <td>01.33</td>\n",
              "    </tr>\n",
              "    <tr>\n",
              "      <th>7</th>\n",
              "      <td>Atlanta</td>\n",
              "      <td>Georgia</td>\n",
              "      <td>37576</td>\n",
              "      <td>01.26</td>\n",
              "    </tr>\n",
              "    <tr>\n",
              "      <th>8</th>\n",
              "      <td>Miami</td>\n",
              "      <td>Florida</td>\n",
              "      <td>31097</td>\n",
              "      <td>01.05</td>\n",
              "    </tr>\n",
              "    <tr>\n",
              "      <th>9</th>\n",
              "      <td>Oklahoma City</td>\n",
              "      <td>Oklahoma</td>\n",
              "      <td>30787</td>\n",
              "      <td>01.04</td>\n",
              "    </tr>\n",
              "    <tr>\n",
              "      <th>10</th>\n",
              "      <td>Baton Rouge</td>\n",
              "      <td>Louisiana</td>\n",
              "      <td>30232</td>\n",
              "      <td>01.02</td>\n",
              "    </tr>\n",
              "  </tbody>\n",
              "</table>\n",
              "</div>"
            ],
            "text/plain": [
              "             City           State  Number Of Accidents Percentage\n",
              "1         Houston           Texas                93245      03.13\n",
              "2       Charlotte  North Carolina                67917      02.28\n",
              "3     Los Angeles      California                65851      02.21\n",
              "4          Austin           Texas                58553      01.97\n",
              "5          Dallas           Texas                57823      01.94\n",
              "6         Raleigh  North Carolina                39623      01.33\n",
              "7         Atlanta         Georgia                37576      01.26\n",
              "8           Miami         Florida                31097      01.05\n",
              "9   Oklahoma City        Oklahoma                30787      01.04\n",
              "10    Baton Rouge       Louisiana                30232      01.02"
            ]
          },
          "metadata": {
            "tags": []
          },
          "execution_count": 12
        }
      ]
    },
    {
      "cell_type": "code",
      "metadata": {
        "id": "cT-5so_-vAdY",
        "colab_type": "code",
        "outputId": "55e78b57-444a-4d0c-e5f0-cef5a7751ccc",
        "colab": {
          "base_uri": "https://localhost:8080/",
          "height": 34
        }
      },
      "source": [
        "houston = df_top10_cities.iloc[0,2] # first row: index = 0 , 3rd column: column = 2\n",
        "pennsylvania = df_top10_states.loc[7,'Number Of Accidents'] # index label = 7, column label= 'Number of Accidents'\n",
        "\n",
        "print('Comment: The top 1 city, Houston, has more accidents ({:,}) than the entire Pennsylvania state ({:,})\\\n",
        " which is ranked 7th in the top 10 states.'.format(houston, pennsylvania))"
      ],
      "execution_count": 0,
      "outputs": [
        {
          "output_type": "stream",
          "text": [
            "Comment: The top 1 city, Houston, has more accidents (93,245) than the entire Pennsylvania state (90,395) which is ranked 7th in the top 10 states.\n"
          ],
          "name": "stdout"
        }
      ]
    },
    {
      "cell_type": "markdown",
      "metadata": {
        "id": "uvSbL9954MhV",
        "colab_type": "text"
      },
      "source": [
        "## Visualization of the top 10 States and Cities"
      ]
    },
    {
      "cell_type": "code",
      "metadata": {
        "id": "ErUiSGxl5ins",
        "colab_type": "code",
        "outputId": "282e6d34-1eaf-4a68-fe16-8f15b1820eb5",
        "colab": {
          "base_uri": "https://localhost:8080/",
          "height": 497
        }
      },
      "source": [
        "# Visualization of the 10 states and cities where accidents happen the most using pandas bult-in visualization\n",
        "\n",
        "df_state = df_top10_states.set_index('State')\n",
        "df_city = df_top10_cities.set_index('City')\n",
        "\n",
        "fig,ax = plt.subplots(1,2,figsize=(18,6))\n",
        "color = (\"blue\", \"forestgreen\", \"gold\", \"red\", \"purple\",'cadetblue','hotpink','orange','darksalmon','brown')\n",
        "\n",
        "df_state['Number Of Accidents'].plot.bar(ax=ax[0],color=color)\n",
        "ax[0].set_title(\"Top 10 States\",size=20)\n",
        "ax[0].set_xlabel('States',size=18)\n",
        "ax[0].set_ylabel('Number of Accidents',size=18)\n",
        "\n",
        "df_city['Number Of Accidents'].plot(kind='bar',ax=ax[1],color=color)\n",
        "ax[1].set_title(\"Top 10 Cities\",size=20)\n",
        "ax[1].set_xlabel('Cities',size=18)\n",
        "ax[1].set_ylabel('Number of Accidents',size=18)"
      ],
      "execution_count": 0,
      "outputs": [
        {
          "output_type": "execute_result",
          "data": {
            "text/plain": [
              "Text(0, 0.5, 'Number of Accidents')"
            ]
          },
          "metadata": {
            "tags": []
          },
          "execution_count": 14
        },
        {
          "output_type": "display_data",
          "data": {
            "image/png": "[encoded data removed]",
            "text/plain": [
              "<Figure size 1296x432 with 2 Axes>"
            ]
          },
          "metadata": {
            "tags": []
          }
        }
      ]
    },
    {
      "cell_type": "code",
      "metadata": {
        "id": "_YnK8uli5n7b",
        "colab_type": "code",
        "outputId": "568cdf1f-c321-402c-cafb-d0e1b61919fe",
        "colab": {
          "base_uri": "https://localhost:8080/",
          "height": 34
        }
      },
      "source": [
        "print('Comment: Although Texas is not the top 1 state in term of accidents, it has 3 cities (Houston, Austin and Dallas) in the top 5 cities.')"
      ],
      "execution_count": 0,
      "outputs": [
        {
          "output_type": "stream",
          "text": [
            "Comment: Although Texas is not the top 1 state in term of accidents, it has 3 cities (Houston, Austin and Dallas) in the top 5 cities.\n"
          ],
          "name": "stdout"
        }
      ]
    },
    {
      "cell_type": "markdown",
      "metadata": {
        "id": "6y3HQlgM92w-",
        "colab_type": "text"
      },
      "source": [
        "## Interactive Visualization of Accidents Distribution over the entire United States"
      ]
    },
    {
      "cell_type": "code",
      "metadata": {
        "id": "_quD81PhkQEd",
        "colab_type": "code",
        "colab": {}
      },
      "source": [
        "# Defining data variable\n",
        "text = df_accidents_per_state.apply(lambda x: x['State'] + ': ' + str(x['Percentage']) + ' %',axis=1)\n",
        "data = dict(type = 'choropleth',\n",
        "           locations = df_accidents_per_state['Abbr'],\n",
        "           locationmode = 'USA-states',\n",
        "            reversescale = True,\n",
        "           text = text,\n",
        "           z = df_accidents_per_state['Number Of Accidents'], # the color vary according to z value.\n",
        "           colorbar = {'title':'Number of Accidents'}\n",
        "           )\n",
        "\n",
        "# Defining layout variable\n",
        "layout = dict(geo = dict(scope='usa', showlakes=False, lakecolor='rgb(85,173,240)'),\n",
        "             title = 'Accidents from February 2016 to December 2019 Distribution in the United States.'\n",
        "             )"
      ],
      "execution_count": 0,
      "outputs": []
    },
    {
      "cell_type": "code",
      "metadata": {
        "id": "Fi4ZDsJRzVug",
        "colab_type": "code",
        "outputId": "0f076260-3bd6-4c0f-8357-94261ed37401",
        "colab": {
          "base_uri": "https://localhost:8080/",
          "height": 542
        }
      },
      "source": [
        "# Displaying the interactive choropleth\n",
        "choromap = go.Figure(data = [data],layout = layout)\n",
        "iplot(choromap,validate=False)"
      ],
      "execution_count": 0,
      "outputs": [
        {
          "output_type": "display_data",
          "data": {
            "text/html": [
              "<html>\n",
              "<head><meta charset=\"utf-8\" /></head>\n",
              "<body>\n",
              "    <div>\n",
              "            <script src=\"https://cdnjs.cloudflare.com/ajax/libs/mathjax/2.7.5/MathJax.js?config=TeX-AMS-MML_SVG\"></script><script type=\"text/javascript\">if (window.MathJax) {MathJax.Hub.Config({SVG: {font: \"STIX-Web\"}});}</script>\n",
              "                <script type=\"text/javascript\">window.PlotlyConfig = {MathJaxConfig: 'local'};</script>\n",
              "        <script src=\"https://cdn.plot.ly/plotly-latest.min.js\"></script>    \n",
              "            <div id=\"861f9558-8aa3-4c92-8234-86bdf1861917\" class=\"plotly-graph-div\" style=\"height:525px; width:100%;\"></div>\n",
              "            <script type=\"text/javascript\">\n",
              "                \n",
              "                    window.PLOTLYENV=window.PLOTLYENV || {};\n",
              "                    \n",
              "                if (document.getElementById(\"861f9558-8aa3-4c92-8234-86bdf1861917\")) {\n",
              "                    Plotly.newPlot(\n",
              "                        '861f9558-8aa3-4c92-8234-86bdf1861917',\n",
              "                        [{\"colorbar\": {\"title\": {\"text\": \"Number of Accidents\"}}, \"locationmode\": \"USA-states\", \"locations\": [\"CA\", \"TX\", \"FL\", \"SC\", \"NC\", \"NY\", \"PA\", \"MI\", \"IL\", \"GA\", \"VA\", \"OR\", \"MN\", \"AZ\", \"WA\", \"TN\", \"OH\", \"LA\", \"OK\", \"NJ\", \"MD\", \"UT\", \"CO\", \"AL\", \"MA\", \"IN\", \"MO\", \"CT\", \"NE\", \"KY\", \"WI\", \"RI\", \"IA\", \"NV\", \"NH\", \"KS\", \"MS\", \"NM\", \"DE\", \"DC\", \"WV\", \"ME\", \"ID\", \"AR\", \"VT\", \"MT\", \"WY\", \"SD\", \"ND\"], \"reversescale\": true, \"text\": [\"California: 22.30 %\", \"Texas: 10.02 %\", \"Florida: 07.52 %\", \"South Carolina: 04.93 %\", \"North Carolina: 04.79 %\", \"New York: 04.63 %\", \"Pennsylvania: 03.04 %\", \"Michigan: 02.98 %\", \"Illinois: 02.90 %\", \"Georgia: 02.81 %\", \"Virginia: 02.69 %\", \"Oregon: 02.38 %\", \"Minnesota: 02.11 %\", \"Arizona: 02.10 %\", \"Washington: 02.06 %\", \"Tennessee: 01.96 %\", \"Ohio: 01.88 %\", \"Louisiana: 01.76 %\", \"Oklahoma: 01.72 %\", \"New Jersey: 01.68 %\", \"Maryland: 01.46 %\", \"Utah: 01.39 %\", \"Colorado: 01.35 %\", \"Alabama: 01.22 %\", \"Massachusetts: 01.11 %\", \"Indiana: 01.01 %\", \"Missouri: 00.98 %\", \"Connecticut: 00.77 %\", \"Nebraska: 00.76 %\", \"Kentucky: 00.64 %\", \"Wisconsin: 00.59 %\", \"Rhode Island: 00.35 %\", \"Iowa: 00.35 %\", \"Nevada: 00.32 %\", \"New Hampshire: 00.24 %\", \"Kansas: 00.23 %\", \"Mississippi: 00.20 %\", \"New Mexico: 00.17 %\", \"Delaware: 00.15 %\", \"District of Columbia: 00.12 %\", \"West Virginia: 00.08 %\", \"Maine: 00.07 %\", \"Idaho: 00.06 %\", \"Arkansas: 00.06 %\", \"Vermont: 00.02 %\", \"Montana: 00.02 %\", \"Wyoming: 00.02 %\", \"South Dakota: 00.00 %\", \"North Dakota: 00.00 %\"], \"type\": \"choropleth\", \"z\": [663204, 298062, 223746, 146689, 142460, 137799, 90395, 88694, 86390, 83620, 79957, 70840, 62727, 62330, 61367, 58289, 55863, 52481, 51297, 49942, 43328, 41385, 40124, 36369, 33014, 30040, 29012, 22803, 22505, 19122, 17580, 10483, 10346, 9524, 7064, 6887, 5961, 5020, 4434, 3653, 2274, 2065, 1757, 1749, 585, 504, 492, 60, 43]}],\n",
              "                        {\"geo\": {\"lakecolor\": \"rgb(85,173,240)\", \"scope\": \"usa\", \"showlakes\": false}, \"template\": {\"data\": {\"bar\": [{\"error_x\": {\"color\": \"#2a3f5f\"}, \"error_y\": {\"color\": \"#2a3f5f\"}, \"marker\": {\"line\": {\"color\": \"#E5ECF6\", \"width\": 0.5}}, \"type\": \"bar\"}], \"barpolar\": [{\"marker\": {\"line\": {\"color\": \"#E5ECF6\", \"width\": 0.5}}, \"type\": \"barpolar\"}], \"carpet\": [{\"aaxis\": {\"endlinecolor\": \"#2a3f5f\", \"gridcolor\": \"white\", \"linecolor\": \"white\", \"minorgridcolor\": \"white\", \"startlinecolor\": \"#2a3f5f\"}, \"baxis\": {\"endlinecolor\": \"#2a3f5f\", \"gridcolor\": \"white\", \"linecolor\": \"white\", \"minorgridcolor\": \"white\", \"startlinecolor\": \"#2a3f5f\"}, \"type\": \"carpet\"}], \"choropleth\": [{\"colorbar\": {\"outlinewidth\": 0, \"ticks\": \"\"}, \"type\": \"choropleth\"}], \"contour\": [{\"colorbar\": {\"outlinewidth\": 0, \"ticks\": \"\"}, \"colorscale\": [[0.0, \"#0d0887\"], [0.1111111111111111, \"#46039f\"], [0.2222222222222222, \"#7201a8\"], [0.3333333333333333, \"#9c179e\"], [0.4444444444444444, \"#bd3786\"], [0.5555555555555556, \"#d8576b\"], [0.6666666666666666, \"#ed7953\"], [0.7777777777777778, \"#fb9f3a\"], [0.8888888888888888, \"#fdca26\"], [1.0, \"#f0f921\"]], \"type\": \"contour\"}], \"contourcarpet\": [{\"colorbar\": {\"outlinewidth\": 0, \"ticks\": \"\"}, \"type\": \"contourcarpet\"}], \"heatmap\": [{\"colorbar\": {\"outlinewidth\": 0, \"ticks\": \"\"}, \"colorscale\": [[0.0, \"#0d0887\"], [0.1111111111111111, \"#46039f\"], [0.2222222222222222, \"#7201a8\"], [0.3333333333333333, \"#9c179e\"], [0.4444444444444444, \"#bd3786\"], [0.5555555555555556, \"#d8576b\"], [0.6666666666666666, \"#ed7953\"], [0.7777777777777778, \"#fb9f3a\"], [0.8888888888888888, \"#fdca26\"], [1.0, \"#f0f921\"]], \"type\": \"heatmap\"}], \"heatmapgl\": [{\"colorbar\": {\"outlinewidth\": 0, \"ticks\": \"\"}, \"colorscale\": [[0.0, \"#0d0887\"], [0.1111111111111111, \"#46039f\"], [0.2222222222222222, \"#7201a8\"], [0.3333333333333333, \"#9c179e\"], [0.4444444444444444, \"#bd3786\"], [0.5555555555555556, \"#d8576b\"], [0.6666666666666666, \"#ed7953\"], [0.7777777777777778, \"#fb9f3a\"], [0.8888888888888888, \"#fdca26\"], [1.0, \"#f0f921\"]], \"type\": \"heatmapgl\"}], \"histogram\": [{\"marker\": {\"colorbar\": {\"outlinewidth\": 0, \"ticks\": \"\"}}, \"type\": \"histogram\"}], \"histogram2d\": [{\"colorbar\": {\"outlinewidth\": 0, \"ticks\": \"\"}, \"colorscale\": [[0.0, \"#0d0887\"], [0.1111111111111111, \"#46039f\"], [0.2222222222222222, \"#7201a8\"], [0.3333333333333333, \"#9c179e\"], [0.4444444444444444, \"#bd3786\"], [0.5555555555555556, \"#d8576b\"], [0.6666666666666666, \"#ed7953\"], [0.7777777777777778, \"#fb9f3a\"], [0.8888888888888888, \"#fdca26\"], [1.0, \"#f0f921\"]], \"type\": \"histogram2d\"}], \"histogram2dcontour\": [{\"colorbar\": {\"outlinewidth\": 0, \"ticks\": \"\"}, \"colorscale\": [[0.0, \"#0d0887\"], [0.1111111111111111, \"#46039f\"], [0.2222222222222222, \"#7201a8\"], [0.3333333333333333, \"#9c179e\"], [0.4444444444444444, \"#bd3786\"], [0.5555555555555556, \"#d8576b\"], [0.6666666666666666, \"#ed7953\"], [0.7777777777777778, \"#fb9f3a\"], [0.8888888888888888, \"#fdca26\"], [1.0, \"#f0f921\"]], \"type\": \"histogram2dcontour\"}], \"mesh3d\": [{\"colorbar\": {\"outlinewidth\": 0, \"ticks\": \"\"}, \"type\": \"mesh3d\"}], \"parcoords\": [{\"line\": {\"colorbar\": {\"outlinewidth\": 0, \"ticks\": \"\"}}, \"type\": \"parcoords\"}], \"pie\": [{\"automargin\": true, \"type\": \"pie\"}], \"scatter\": [{\"marker\": {\"colorbar\": {\"outlinewidth\": 0, \"ticks\": \"\"}}, \"type\": \"scatter\"}], \"scatter3d\": [{\"line\": {\"colorbar\": {\"outlinewidth\": 0, \"ticks\": \"\"}}, \"marker\": {\"colorbar\": {\"outlinewidth\": 0, \"ticks\": \"\"}}, \"type\": \"scatter3d\"}], \"scattercarpet\": [{\"marker\": {\"colorbar\": {\"outlinewidth\": 0, \"ticks\": \"\"}}, \"type\": \"scattercarpet\"}], \"scattergeo\": [{\"marker\": {\"colorbar\": {\"outlinewidth\": 0, \"ticks\": \"\"}}, \"type\": \"scattergeo\"}], \"scattergl\": [{\"marker\": {\"colorbar\": {\"outlinewidth\": 0, \"ticks\": \"\"}}, \"type\": \"scattergl\"}], \"scattermapbox\": [{\"marker\": {\"colorbar\": {\"outlinewidth\": 0, \"ticks\": \"\"}}, \"type\": \"scattermapbox\"}], \"scatterpolar\": [{\"marker\": {\"colorbar\": {\"outlinewidth\": 0, \"ticks\": \"\"}}, \"type\": \"scatterpolar\"}], \"scatterpolargl\": [{\"marker\": {\"colorbar\": {\"outlinewidth\": 0, \"ticks\": \"\"}}, \"type\": \"scatterpolargl\"}], \"scatterternary\": [{\"marker\": {\"colorbar\": {\"outlinewidth\": 0, \"ticks\": \"\"}}, \"type\": \"scatterternary\"}], \"surface\": [{\"colorbar\": {\"outlinewidth\": 0, \"ticks\": \"\"}, \"colorscale\": [[0.0, \"#0d0887\"], [0.1111111111111111, \"#46039f\"], [0.2222222222222222, \"#7201a8\"], [0.3333333333333333, \"#9c179e\"], [0.4444444444444444, \"#bd3786\"], [0.5555555555555556, \"#d8576b\"], [0.6666666666666666, \"#ed7953\"], [0.7777777777777778, \"#fb9f3a\"], [0.8888888888888888, \"#fdca26\"], [1.0, \"#f0f921\"]], \"type\": \"surface\"}], \"table\": [{\"cells\": {\"fill\": {\"color\": \"#EBF0F8\"}, \"line\": {\"color\": \"white\"}}, \"header\": {\"fill\": {\"color\": \"#C8D4E3\"}, \"line\": {\"color\": \"white\"}}, \"type\": \"table\"}]}, \"layout\": {\"annotationdefaults\": {\"arrowcolor\": \"#2a3f5f\", \"arrowhead\": 0, \"arrowwidth\": 1}, \"coloraxis\": {\"colorbar\": {\"outlinewidth\": 0, \"ticks\": \"\"}}, \"colorscale\": {\"diverging\": [[0, \"#8e0152\"], [0.1, \"#c51b7d\"], [0.2, \"#de77ae\"], [0.3, \"#f1b6da\"], [0.4, \"#fde0ef\"], [0.5, \"#f7f7f7\"], [0.6, \"#e6f5d0\"], [0.7, \"#b8e186\"], [0.8, \"#7fbc41\"], [0.9, \"#4d9221\"], [1, \"#276419\"]], \"sequential\": [[0.0, \"#0d0887\"], [0.1111111111111111, \"#46039f\"], [0.2222222222222222, \"#7201a8\"], [0.3333333333333333, \"#9c179e\"], [0.4444444444444444, \"#bd3786\"], [0.5555555555555556, \"#d8576b\"], [0.6666666666666666, \"#ed7953\"], [0.7777777777777778, \"#fb9f3a\"], [0.8888888888888888, \"#fdca26\"], [1.0, \"#f0f921\"]], \"sequentialminus\": [[0.0, \"#0d0887\"], [0.1111111111111111, \"#46039f\"], [0.2222222222222222, \"#7201a8\"], [0.3333333333333333, \"#9c179e\"], [0.4444444444444444, \"#bd3786\"], [0.5555555555555556, \"#d8576b\"], [0.6666666666666666, \"#ed7953\"], [0.7777777777777778, \"#fb9f3a\"], [0.8888888888888888, \"#fdca26\"], [1.0, \"#f0f921\"]]}, \"colorway\": [\"#636efa\", \"#EF553B\", \"#00cc96\", \"#ab63fa\", \"#FFA15A\", \"#19d3f3\", \"#FF6692\", \"#B6E880\", \"#FF97FF\", \"#FECB52\"], \"font\": {\"color\": \"#2a3f5f\"}, \"geo\": {\"bgcolor\": \"white\", \"lakecolor\": \"white\", \"landcolor\": \"#E5ECF6\", \"showlakes\": true, \"showland\": true, \"subunitcolor\": \"white\"}, \"hoverlabel\": {\"align\": \"left\"}, \"hovermode\": \"closest\", \"mapbox\": {\"style\": \"light\"}, \"paper_bgcolor\": \"white\", \"plot_bgcolor\": \"#E5ECF6\", \"polar\": {\"angularaxis\": {\"gridcolor\": \"white\", \"linecolor\": \"white\", \"ticks\": \"\"}, \"bgcolor\": \"#E5ECF6\", \"radialaxis\": {\"gridcolor\": \"white\", \"linecolor\": \"white\", \"ticks\": \"\"}}, \"scene\": {\"xaxis\": {\"backgroundcolor\": \"#E5ECF6\", \"gridcolor\": \"white\", \"gridwidth\": 2, \"linecolor\": \"white\", \"showbackground\": true, \"ticks\": \"\", \"zerolinecolor\": \"white\"}, \"yaxis\": {\"backgroundcolor\": \"#E5ECF6\", \"gridcolor\": \"white\", \"gridwidth\": 2, \"linecolor\": \"white\", \"showbackground\": true, \"ticks\": \"\", \"zerolinecolor\": \"white\"}, \"zaxis\": {\"backgroundcolor\": \"#E5ECF6\", \"gridcolor\": \"white\", \"gridwidth\": 2, \"linecolor\": \"white\", \"showbackground\": true, \"ticks\": \"\", \"zerolinecolor\": \"white\"}}, \"shapedefaults\": {\"line\": {\"color\": \"#2a3f5f\"}}, \"ternary\": {\"aaxis\": {\"gridcolor\": \"white\", \"linecolor\": \"white\", \"ticks\": \"\"}, \"baxis\": {\"gridcolor\": \"white\", \"linecolor\": \"white\", \"ticks\": \"\"}, \"bgcolor\": \"#E5ECF6\", \"caxis\": {\"gridcolor\": \"white\", \"linecolor\": \"white\", \"ticks\": \"\"}}, \"title\": {\"x\": 0.05}, \"xaxis\": {\"automargin\": true, \"gridcolor\": \"white\", \"linecolor\": \"white\", \"ticks\": \"\", \"title\": {\"standoff\": 15}, \"zerolinecolor\": \"white\", \"zerolinewidth\": 2}, \"yaxis\": {\"automargin\": true, \"gridcolor\": \"white\", \"linecolor\": \"white\", \"ticks\": \"\", \"title\": {\"standoff\": 15}, \"zerolinecolor\": \"white\", \"zerolinewidth\": 2}}}, \"title\": {\"text\": \"Accidents from February 2016 to December 2019 Distribution in the United States.\"}},\n",
              "                        {\"responsive\": true}\n",
              "                    ).then(function(){\n",
              "                            \n",
              "var gd = document.getElementById('861f9558-8aa3-4c92-8234-86bdf1861917');\n",
              "var x = new MutationObserver(function (mutations, observer) {{\n",
              "        var display = window.getComputedStyle(gd).display;\n",
              "        if (!display || display === 'none') {{\n",
              "            console.log([gd, 'removed!']);\n",
              "            Plotly.purge(gd);\n",
              "            observer.disconnect();\n",
              "        }}\n",
              "}});\n",
              "\n",
              "// Listen for the removal of the full notebook cells\n",
              "var notebookContainer = gd.closest('#notebook-container');\n",
              "if (notebookContainer) {{\n",
              "    x.observe(notebookContainer, {childList: true});\n",
              "}}\n",
              "\n",
              "// Listen for the clearing of the current output cell\n",
              "var outputEl = gd.closest('.output');\n",
              "if (outputEl) {{\n",
              "    x.observe(outputEl, {childList: true});\n",
              "}}\n",
              "\n",
              "                        })\n",
              "                };\n",
              "                \n",
              "            </script>\n",
              "        </div>\n",
              "</body>\n",
              "</html>"
            ]
          },
          "metadata": {
            "tags": []
          }
        }
      ]
    },
    {
      "cell_type": "markdown",
      "metadata": {
        "id": "IcxN63yC-57C",
        "colab_type": "text"
      },
      "source": [
        "## How accidents are distributed in term of severity and their occurrence moment (Day or Night)"
      ]
    },
    {
      "cell_type": "code",
      "metadata": {
        "id": "qtKh2vqVozpS",
        "colab_type": "code",
        "outputId": "4461336f-fcdf-427d-8de6-13fc1bfa45e9",
        "colab": {
          "base_uri": "https://localhost:8080/",
          "height": 434
        }
      },
      "source": [
        "# Distribution of accidents according to their severity and when (Day/Night) they occur using Seaborn visualization.\n",
        "plt.figure(figsize=(10,6))\n",
        "\n",
        "sns.countplot(data=df_accidents,x='Severity', hue='Sunrise_Sunset',)\n",
        "plt.title('Distribution of Accidents by Severity and Moment', size= 20)\n",
        "plt.xlabel('Severity', size=18)\n",
        "plt.ylabel('Number of Accidents', size=18)"
      ],
      "execution_count": 0,
      "outputs": [
        {
          "output_type": "execute_result",
          "data": {
            "text/plain": [
              "Text(0, 0.5, 'Number of Accidents')"
            ]
          },
          "metadata": {
            "tags": []
          },
          "execution_count": 18
        },
        {
          "output_type": "display_data",
          "data": {
            "image/png": "[encoded data removed]",
            "text/plain": [
              "<Figure size 720x432 with 1 Axes>"
            ]
          },
          "metadata": {
            "tags": []
          }
        }
      ]
    },
    {
      "cell_type": "code",
      "metadata": {
        "id": "RZSqhXxwA-WJ",
        "colab_type": "code",
        "outputId": "2b8d0ee1-5869-4479-c84e-f9a2cad7abed",
        "colab": {
          "base_uri": "https://localhost:8080/",
          "height": 34
        }
      },
      "source": [
        "print('Comment:The large majority of accidents has from the category 2 on a scale of 4 in term of severity \\\n",
        "and no matter its severity, an accident likely occurs during the day than at night.')"
      ],
      "execution_count": 0,
      "outputs": [
        {
          "output_type": "stream",
          "text": [
            "Comment:The large majority of accidents has from the category 2 on a scale of 4 in term of severity and no matter its severity, an accident likely occurs during the day than at night.\n"
          ],
          "name": "stdout"
        }
      ]
    },
    {
      "cell_type": "markdown",
      "metadata": {
        "id": "k5MfspTDAMH-",
        "colab_type": "text"
      },
      "source": [
        "# Part 2: Accidents in Cleveland Ohio"
      ]
    },
    {
      "cell_type": "markdown",
      "metadata": {
        "id": "RsaZpkpaCliE",
        "colab_type": "text"
      },
      "source": [
        "## How Cleveland Accidents are distributed per year, month, day and hour"
      ]
    },
    {
      "cell_type": "code",
      "metadata": {
        "id": "CoLQj_lwatKE",
        "colab_type": "code",
        "outputId": "5c1c8e5a-7d1c-4951-af42-22187458120d",
        "colab": {
          "base_uri": "https://localhost:8080/",
          "height": 547
        }
      },
      "source": [
        "# Let's convert the Start and End time columns that are in string format into date format and use them to get only accidents occurred\n",
        "# between 1/1/2017 and 12/31/2018 and filter on State and City to get only accidents for the city of Cleveland.\n",
        "from datetime import datetime\n",
        "\n",
        "df_accidents['Start_Time'] = pd.to_datetime(df_accidents['Start_Time'])\n",
        "df_accidents['End_Time'] = pd.to_datetime(df_accidents['End_Time'])\n",
        "\n",
        "df_accidents_cleveland = df_accidents[(df_accidents['State']=='OH') & (df_accidents['City']=='Cleveland')]\n",
        "df_accidents_cleveland.head()"
      ],
      "execution_count": 0,
      "outputs": [
        {
          "output_type": "execute_result",
          "data": {
            "text/html": [
              "<div>\n",
              "<style scoped>\n",
              "    .dataframe tbody tr th:only-of-type {\n",
              "        vertical-align: middle;\n",
              "    }\n",
              "\n",
              "    .dataframe tbody tr th {\n",
              "        vertical-align: top;\n",
              "    }\n",
              "\n",
              "    .dataframe thead th {\n",
              "        text-align: right;\n",
              "    }\n",
              "</style>\n",
              "<table border=\"1\" class=\"dataframe\">\n",
              "  <thead>\n",
              "    <tr style=\"text-align: right;\">\n",
              "      <th></th>\n",
              "      <th>ID</th>\n",
              "      <th>Source</th>\n",
              "      <th>TMC</th>\n",
              "      <th>Severity</th>\n",
              "      <th>Start_Time</th>\n",
              "      <th>End_Time</th>\n",
              "      <th>Start_Lat</th>\n",
              "      <th>Start_Lng</th>\n",
              "      <th>End_Lat</th>\n",
              "      <th>End_Lng</th>\n",
              "      <th>Distance(mi)</th>\n",
              "      <th>Description</th>\n",
              "      <th>Number</th>\n",
              "      <th>Street</th>\n",
              "      <th>Side</th>\n",
              "      <th>City</th>\n",
              "      <th>County</th>\n",
              "      <th>State</th>\n",
              "      <th>Zipcode</th>\n",
              "      <th>Country</th>\n",
              "      <th>Timezone</th>\n",
              "      <th>Airport_Code</th>\n",
              "      <th>Weather_Timestamp</th>\n",
              "      <th>Temperature(F)</th>\n",
              "      <th>Wind_Chill(F)</th>\n",
              "      <th>Humidity(%)</th>\n",
              "      <th>Pressure(in)</th>\n",
              "      <th>Visibility(mi)</th>\n",
              "      <th>Wind_Direction</th>\n",
              "      <th>Wind_Speed(mph)</th>\n",
              "      <th>Precipitation(in)</th>\n",
              "      <th>Weather_Condition</th>\n",
              "      <th>Amenity</th>\n",
              "      <th>Bump</th>\n",
              "      <th>Crossing</th>\n",
              "      <th>Give_Way</th>\n",
              "      <th>Junction</th>\n",
              "      <th>No_Exit</th>\n",
              "      <th>Railway</th>\n",
              "      <th>Roundabout</th>\n",
              "      <th>Station</th>\n",
              "      <th>Stop</th>\n",
              "      <th>Traffic_Calming</th>\n",
              "      <th>Traffic_Signal</th>\n",
              "      <th>Turning_Loop</th>\n",
              "      <th>Sunrise_Sunset</th>\n",
              "      <th>Civil_Twilight</th>\n",
              "      <th>Nautical_Twilight</th>\n",
              "      <th>Astronomical_Twilight</th>\n",
              "    </tr>\n",
              "  </thead>\n",
              "  <tbody>\n",
              "    <tr>\n",
              "      <th>87</th>\n",
              "      <td>A-88</td>\n",
              "      <td>MapQuest</td>\n",
              "      <td>201.0</td>\n",
              "      <td>3</td>\n",
              "      <td>2016-02-11 05:32:29</td>\n",
              "      <td>2016-02-11 06:02:29</td>\n",
              "      <td>41.422199</td>\n",
              "      <td>-81.843018</td>\n",
              "      <td>NaN</td>\n",
              "      <td>NaN</td>\n",
              "      <td>0.01</td>\n",
              "      <td>Accident on I-480 Westbound at Exit 9 OH-17 Br...</td>\n",
              "      <td>NaN</td>\n",
              "      <td>Grayton Rd</td>\n",
              "      <td>R</td>\n",
              "      <td>Cleveland</td>\n",
              "      <td>Cuyahoga</td>\n",
              "      <td>OH</td>\n",
              "      <td>44135</td>\n",
              "      <td>US</td>\n",
              "      <td>US/Eastern</td>\n",
              "      <td>KCLE</td>\n",
              "      <td>2016-02-11 05:51:00</td>\n",
              "      <td>14.0</td>\n",
              "      <td>0.5</td>\n",
              "      <td>56.0</td>\n",
              "      <td>30.14</td>\n",
              "      <td>9.0</td>\n",
              "      <td>NW</td>\n",
              "      <td>11.5</td>\n",
              "      <td>0.0</td>\n",
              "      <td>Light Snow</td>\n",
              "      <td>False</td>\n",
              "      <td>False</td>\n",
              "      <td>False</td>\n",
              "      <td>False</td>\n",
              "      <td>True</td>\n",
              "      <td>False</td>\n",
              "      <td>False</td>\n",
              "      <td>False</td>\n",
              "      <td>False</td>\n",
              "      <td>False</td>\n",
              "      <td>False</td>\n",
              "      <td>False</td>\n",
              "      <td>False</td>\n",
              "      <td>Night</td>\n",
              "      <td>Night</td>\n",
              "      <td>Night</td>\n",
              "      <td>Night</td>\n",
              "    </tr>\n",
              "    <tr>\n",
              "      <th>91</th>\n",
              "      <td>A-92</td>\n",
              "      <td>MapQuest</td>\n",
              "      <td>201.0</td>\n",
              "      <td>3</td>\n",
              "      <td>2016-02-11 06:29:00</td>\n",
              "      <td>2016-02-11 21:00:00</td>\n",
              "      <td>41.420818</td>\n",
              "      <td>-81.694008</td>\n",
              "      <td>NaN</td>\n",
              "      <td>NaN</td>\n",
              "      <td>0.01</td>\n",
              "      <td>Accident on I-480 Eastbound at Exit 16 OH-94 S...</td>\n",
              "      <td>NaN</td>\n",
              "      <td>I-480 E</td>\n",
              "      <td>R</td>\n",
              "      <td>Cleveland</td>\n",
              "      <td>Cuyahoga</td>\n",
              "      <td>OH</td>\n",
              "      <td>44109</td>\n",
              "      <td>US</td>\n",
              "      <td>US/Eastern</td>\n",
              "      <td>KBKL</td>\n",
              "      <td>2016-02-11 06:53:00</td>\n",
              "      <td>17.1</td>\n",
              "      <td>-0.3</td>\n",
              "      <td>59.0</td>\n",
              "      <td>30.12</td>\n",
              "      <td>10.0</td>\n",
              "      <td>NW</td>\n",
              "      <td>21.9</td>\n",
              "      <td>NaN</td>\n",
              "      <td>Overcast</td>\n",
              "      <td>False</td>\n",
              "      <td>False</td>\n",
              "      <td>False</td>\n",
              "      <td>False</td>\n",
              "      <td>False</td>\n",
              "      <td>False</td>\n",
              "      <td>False</td>\n",
              "      <td>False</td>\n",
              "      <td>False</td>\n",
              "      <td>False</td>\n",
              "      <td>False</td>\n",
              "      <td>False</td>\n",
              "      <td>False</td>\n",
              "      <td>Night</td>\n",
              "      <td>Night</td>\n",
              "      <td>Day</td>\n",
              "      <td>Day</td>\n",
              "    </tr>\n",
              "    <tr>\n",
              "      <th>96</th>\n",
              "      <td>A-97</td>\n",
              "      <td>MapQuest</td>\n",
              "      <td>201.0</td>\n",
              "      <td>3</td>\n",
              "      <td>2016-02-11 07:29:06</td>\n",
              "      <td>2016-02-11 08:18:10</td>\n",
              "      <td>41.355396</td>\n",
              "      <td>-81.819267</td>\n",
              "      <td>NaN</td>\n",
              "      <td>NaN</td>\n",
              "      <td>0.01</td>\n",
              "      <td>Accident on I-71 Northbound at Exit 234 US-42 ...</td>\n",
              "      <td>NaN</td>\n",
              "      <td>I-71 S</td>\n",
              "      <td>R</td>\n",
              "      <td>Cleveland</td>\n",
              "      <td>Cuyahoga</td>\n",
              "      <td>OH</td>\n",
              "      <td>44130</td>\n",
              "      <td>US</td>\n",
              "      <td>US/Eastern</td>\n",
              "      <td>KCLE</td>\n",
              "      <td>2016-02-11 07:51:00</td>\n",
              "      <td>15.1</td>\n",
              "      <td>-1.6</td>\n",
              "      <td>51.0</td>\n",
              "      <td>30.18</td>\n",
              "      <td>10.0</td>\n",
              "      <td>NW</td>\n",
              "      <td>18.4</td>\n",
              "      <td>NaN</td>\n",
              "      <td>Mostly Cloudy</td>\n",
              "      <td>False</td>\n",
              "      <td>False</td>\n",
              "      <td>False</td>\n",
              "      <td>False</td>\n",
              "      <td>False</td>\n",
              "      <td>False</td>\n",
              "      <td>False</td>\n",
              "      <td>False</td>\n",
              "      <td>False</td>\n",
              "      <td>False</td>\n",
              "      <td>False</td>\n",
              "      <td>False</td>\n",
              "      <td>False</td>\n",
              "      <td>Day</td>\n",
              "      <td>Day</td>\n",
              "      <td>Day</td>\n",
              "      <td>Day</td>\n",
              "    </tr>\n",
              "    <tr>\n",
              "      <th>150</th>\n",
              "      <td>A-151</td>\n",
              "      <td>MapQuest</td>\n",
              "      <td>201.0</td>\n",
              "      <td>2</td>\n",
              "      <td>2016-02-15 07:37:49</td>\n",
              "      <td>2016-02-15 08:07:49</td>\n",
              "      <td>41.410461</td>\n",
              "      <td>-81.725853</td>\n",
              "      <td>NaN</td>\n",
              "      <td>NaN</td>\n",
              "      <td>0.00</td>\n",
              "      <td>Accident on Westlake Ave at Torrington Ave.</td>\n",
              "      <td>5847.0</td>\n",
              "      <td>Westlake Ave</td>\n",
              "      <td>L</td>\n",
              "      <td>Cleveland</td>\n",
              "      <td>Cuyahoga</td>\n",
              "      <td>OH</td>\n",
              "      <td>44129-2344</td>\n",
              "      <td>US</td>\n",
              "      <td>US/Eastern</td>\n",
              "      <td>KCLE</td>\n",
              "      <td>2016-02-15 07:51:00</td>\n",
              "      <td>21.0</td>\n",
              "      <td>9.3</td>\n",
              "      <td>85.0</td>\n",
              "      <td>30.10</td>\n",
              "      <td>4.0</td>\n",
              "      <td>SSE</td>\n",
              "      <td>11.5</td>\n",
              "      <td>0.0</td>\n",
              "      <td>Light Snow</td>\n",
              "      <td>False</td>\n",
              "      <td>False</td>\n",
              "      <td>False</td>\n",
              "      <td>False</td>\n",
              "      <td>False</td>\n",
              "      <td>False</td>\n",
              "      <td>False</td>\n",
              "      <td>False</td>\n",
              "      <td>False</td>\n",
              "      <td>False</td>\n",
              "      <td>False</td>\n",
              "      <td>False</td>\n",
              "      <td>False</td>\n",
              "      <td>Day</td>\n",
              "      <td>Day</td>\n",
              "      <td>Day</td>\n",
              "      <td>Day</td>\n",
              "    </tr>\n",
              "    <tr>\n",
              "      <th>235</th>\n",
              "      <td>A-236</td>\n",
              "      <td>MapQuest</td>\n",
              "      <td>201.0</td>\n",
              "      <td>2</td>\n",
              "      <td>2016-02-18 06:27:59</td>\n",
              "      <td>2016-02-18 06:57:59</td>\n",
              "      <td>41.414131</td>\n",
              "      <td>-81.632141</td>\n",
              "      <td>NaN</td>\n",
              "      <td>NaN</td>\n",
              "      <td>0.01</td>\n",
              "      <td>Accident on OH-17 Granger Rd at Canal Rd. Expe...</td>\n",
              "      <td>7998.0</td>\n",
              "      <td>Granger Rd</td>\n",
              "      <td>R</td>\n",
              "      <td>Cleveland</td>\n",
              "      <td>Cuyahoga</td>\n",
              "      <td>OH</td>\n",
              "      <td>44125-4827</td>\n",
              "      <td>US</td>\n",
              "      <td>US/Eastern</td>\n",
              "      <td>KBKL</td>\n",
              "      <td>2016-02-18 06:53:00</td>\n",
              "      <td>19.0</td>\n",
              "      <td>11.1</td>\n",
              "      <td>71.0</td>\n",
              "      <td>30.52</td>\n",
              "      <td>10.0</td>\n",
              "      <td>SE</td>\n",
              "      <td>5.8</td>\n",
              "      <td>NaN</td>\n",
              "      <td>Clear</td>\n",
              "      <td>False</td>\n",
              "      <td>False</td>\n",
              "      <td>False</td>\n",
              "      <td>False</td>\n",
              "      <td>False</td>\n",
              "      <td>False</td>\n",
              "      <td>False</td>\n",
              "      <td>False</td>\n",
              "      <td>False</td>\n",
              "      <td>False</td>\n",
              "      <td>False</td>\n",
              "      <td>True</td>\n",
              "      <td>False</td>\n",
              "      <td>Night</td>\n",
              "      <td>Night</td>\n",
              "      <td>Day</td>\n",
              "      <td>Day</td>\n",
              "    </tr>\n",
              "  </tbody>\n",
              "</table>\n",
              "</div>"
            ],
            "text/plain": [
              "        ID    Source  ...  Nautical_Twilight  Astronomical_Twilight\n",
              "87    A-88  MapQuest  ...              Night                  Night\n",
              "91    A-92  MapQuest  ...                Day                    Day\n",
              "96    A-97  MapQuest  ...                Day                    Day\n",
              "150  A-151  MapQuest  ...                Day                    Day\n",
              "235  A-236  MapQuest  ...                Day                    Day\n",
              "\n",
              "[5 rows x 49 columns]"
            ]
          },
          "metadata": {
            "tags": []
          },
          "execution_count": 26
        }
      ]
    },
    {
      "cell_type": "code",
      "metadata": {
        "id": "sFwVanYFt__E",
        "colab_type": "code",
        "outputId": "1c946e12-441e-4a93-b0ea-5a6e52ecf8ff",
        "colab": {
          "base_uri": "https://localhost:8080/",
          "height": 34
        }
      },
      "source": [
        "print('Comment: There are {:,} accidents that occurred in Cleveland Ohio between February 2016 and December 2019'.format(len(df_accidents_cleveland)))"
      ],
      "execution_count": 0,
      "outputs": [
        {
          "output_type": "stream",
          "text": [
            "Comment: There are 4,768 accidents that occurred in Cleveland Ohio between February 2016 and December 2019\n"
          ],
          "name": "stdout"
        }
      ]
    },
    {
      "cell_type": "code",
      "metadata": {
        "id": "ZKMD0S-qasoO",
        "colab_type": "code",
        "colab": {}
      },
      "source": [
        "# Let's add some new columns that will help us in hours, week days, months, and years analysis.\n",
        "\n",
        "  # function to create dates on format 'Fri Mar 20th, 2020'\n",
        "def myDate(d):\n",
        "  if d.day in [1,21,31]:\n",
        "    return d.strftime('%a %b %dst, %Y')\n",
        "  elif d.day in [2,22]:\n",
        "    return d.strftime('%a %b %dnd, %Y')\n",
        "  elif d.day==3:\n",
        "    return d.strftime('%a %b %drd, %Y')\n",
        "  else:\n",
        "    return d.strftime('%a %b %dth, %Y')\n",
        "\n",
        "df_accidents_cleveland['Hour'] = df_accidents_cleveland['Start_Time'].apply(lambda t: t.hour)\n",
        "df_accidents_cleveland['Weekday'] = df_accidents_cleveland['Start_Time'].apply(lambda t: t.dayofweek)\n",
        "df_accidents_cleveland['Monthday'] = df_accidents_cleveland['Start_Time'].apply(lambda t: t.day)\n",
        "df_accidents_cleveland['Month'] = df_accidents_cleveland['Start_Time'].apply(lambda t: t.month)\n",
        "df_accidents_cleveland['Year'] = df_accidents_cleveland['Start_Time'].apply(lambda t: t.year)\n",
        "df_accidents_cleveland['Date'] = df_accidents_cleveland['Start_Time'].apply(myDate)\n"
      ],
      "execution_count": 0,
      "outputs": []
    },
    {
      "cell_type": "code",
      "metadata": {
        "id": "GC27L1xcoLJg",
        "colab_type": "code",
        "outputId": "008f6725-ade9-4e6d-ff95-d18f069d9aec",
        "colab": {
          "base_uri": "https://localhost:8080/",
          "height": 547
        }
      },
      "source": [
        "df_accidents_cleveland.head()"
      ],
      "execution_count": 0,
      "outputs": [
        {
          "output_type": "execute_result",
          "data": {
            "text/html": [
              "<div>\n",
              "<style scoped>\n",
              "    .dataframe tbody tr th:only-of-type {\n",
              "        vertical-align: middle;\n",
              "    }\n",
              "\n",
              "    .dataframe tbody tr th {\n",
              "        vertical-align: top;\n",
              "    }\n",
              "\n",
              "    .dataframe thead th {\n",
              "        text-align: right;\n",
              "    }\n",
              "</style>\n",
              "<table border=\"1\" class=\"dataframe\">\n",
              "  <thead>\n",
              "    <tr style=\"text-align: right;\">\n",
              "      <th></th>\n",
              "      <th>ID</th>\n",
              "      <th>Source</th>\n",
              "      <th>TMC</th>\n",
              "      <th>Severity</th>\n",
              "      <th>Start_Time</th>\n",
              "      <th>End_Time</th>\n",
              "      <th>Start_Lat</th>\n",
              "      <th>Start_Lng</th>\n",
              "      <th>End_Lat</th>\n",
              "      <th>End_Lng</th>\n",
              "      <th>Distance(mi)</th>\n",
              "      <th>Description</th>\n",
              "      <th>Number</th>\n",
              "      <th>Street</th>\n",
              "      <th>Side</th>\n",
              "      <th>City</th>\n",
              "      <th>County</th>\n",
              "      <th>State</th>\n",
              "      <th>Zipcode</th>\n",
              "      <th>Country</th>\n",
              "      <th>Timezone</th>\n",
              "      <th>Airport_Code</th>\n",
              "      <th>Weather_Timestamp</th>\n",
              "      <th>Temperature(F)</th>\n",
              "      <th>Wind_Chill(F)</th>\n",
              "      <th>Humidity(%)</th>\n",
              "      <th>Pressure(in)</th>\n",
              "      <th>Visibility(mi)</th>\n",
              "      <th>Wind_Direction</th>\n",
              "      <th>Wind_Speed(mph)</th>\n",
              "      <th>Precipitation(in)</th>\n",
              "      <th>Weather_Condition</th>\n",
              "      <th>Amenity</th>\n",
              "      <th>Bump</th>\n",
              "      <th>Crossing</th>\n",
              "      <th>Give_Way</th>\n",
              "      <th>Junction</th>\n",
              "      <th>No_Exit</th>\n",
              "      <th>Railway</th>\n",
              "      <th>Roundabout</th>\n",
              "      <th>Station</th>\n",
              "      <th>Stop</th>\n",
              "      <th>Traffic_Calming</th>\n",
              "      <th>Traffic_Signal</th>\n",
              "      <th>Turning_Loop</th>\n",
              "      <th>Sunrise_Sunset</th>\n",
              "      <th>Civil_Twilight</th>\n",
              "      <th>Nautical_Twilight</th>\n",
              "      <th>Astronomical_Twilight</th>\n",
              "      <th>Hour</th>\n",
              "      <th>Weekday</th>\n",
              "      <th>Month</th>\n",
              "      <th>Year</th>\n",
              "      <th>Date</th>\n",
              "      <th>Monthday</th>\n",
              "    </tr>\n",
              "  </thead>\n",
              "  <tbody>\n",
              "    <tr>\n",
              "      <th>87</th>\n",
              "      <td>A-88</td>\n",
              "      <td>MapQuest</td>\n",
              "      <td>201.0</td>\n",
              "      <td>3</td>\n",
              "      <td>2016-02-11 05:32:29</td>\n",
              "      <td>2016-02-11 06:02:29</td>\n",
              "      <td>41.422199</td>\n",
              "      <td>-81.843018</td>\n",
              "      <td>NaN</td>\n",
              "      <td>NaN</td>\n",
              "      <td>0.01</td>\n",
              "      <td>Accident on I-480 Westbound at Exit 9 OH-17 Br...</td>\n",
              "      <td>NaN</td>\n",
              "      <td>Grayton Rd</td>\n",
              "      <td>R</td>\n",
              "      <td>Cleveland</td>\n",
              "      <td>Cuyahoga</td>\n",
              "      <td>OH</td>\n",
              "      <td>44135</td>\n",
              "      <td>US</td>\n",
              "      <td>US/Eastern</td>\n",
              "      <td>KCLE</td>\n",
              "      <td>2016-02-11 05:51:00</td>\n",
              "      <td>14.0</td>\n",
              "      <td>0.5</td>\n",
              "      <td>56.0</td>\n",
              "      <td>30.14</td>\n",
              "      <td>9.0</td>\n",
              "      <td>NW</td>\n",
              "      <td>11.5</td>\n",
              "      <td>0.0</td>\n",
              "      <td>Light Snow</td>\n",
              "      <td>False</td>\n",
              "      <td>False</td>\n",
              "      <td>False</td>\n",
              "      <td>False</td>\n",
              "      <td>True</td>\n",
              "      <td>False</td>\n",
              "      <td>False</td>\n",
              "      <td>False</td>\n",
              "      <td>False</td>\n",
              "      <td>False</td>\n",
              "      <td>False</td>\n",
              "      <td>False</td>\n",
              "      <td>False</td>\n",
              "      <td>Night</td>\n",
              "      <td>Night</td>\n",
              "      <td>Night</td>\n",
              "      <td>Night</td>\n",
              "      <td>5</td>\n",
              "      <td>3</td>\n",
              "      <td>2</td>\n",
              "      <td>2016</td>\n",
              "      <td>Thu Feb 11th, 2016</td>\n",
              "      <td>11</td>\n",
              "    </tr>\n",
              "    <tr>\n",
              "      <th>91</th>\n",
              "      <td>A-92</td>\n",
              "      <td>MapQuest</td>\n",
              "      <td>201.0</td>\n",
              "      <td>3</td>\n",
              "      <td>2016-02-11 06:29:00</td>\n",
              "      <td>2016-02-11 21:00:00</td>\n",
              "      <td>41.420818</td>\n",
              "      <td>-81.694008</td>\n",
              "      <td>NaN</td>\n",
              "      <td>NaN</td>\n",
              "      <td>0.01</td>\n",
              "      <td>Accident on I-480 Eastbound at Exit 16 OH-94 S...</td>\n",
              "      <td>NaN</td>\n",
              "      <td>I-480 E</td>\n",
              "      <td>R</td>\n",
              "      <td>Cleveland</td>\n",
              "      <td>Cuyahoga</td>\n",
              "      <td>OH</td>\n",
              "      <td>44109</td>\n",
              "      <td>US</td>\n",
              "      <td>US/Eastern</td>\n",
              "      <td>KBKL</td>\n",
              "      <td>2016-02-11 06:53:00</td>\n",
              "      <td>17.1</td>\n",
              "      <td>-0.3</td>\n",
              "      <td>59.0</td>\n",
              "      <td>30.12</td>\n",
              "      <td>10.0</td>\n",
              "      <td>NW</td>\n",
              "      <td>21.9</td>\n",
              "      <td>NaN</td>\n",
              "      <td>Overcast</td>\n",
              "      <td>False</td>\n",
              "      <td>False</td>\n",
              "      <td>False</td>\n",
              "      <td>False</td>\n",
              "      <td>False</td>\n",
              "      <td>False</td>\n",
              "      <td>False</td>\n",
              "      <td>False</td>\n",
              "      <td>False</td>\n",
              "      <td>False</td>\n",
              "      <td>False</td>\n",
              "      <td>False</td>\n",
              "      <td>False</td>\n",
              "      <td>Night</td>\n",
              "      <td>Night</td>\n",
              "      <td>Day</td>\n",
              "      <td>Day</td>\n",
              "      <td>6</td>\n",
              "      <td>3</td>\n",
              "      <td>2</td>\n",
              "      <td>2016</td>\n",
              "      <td>Thu Feb 11th, 2016</td>\n",
              "      <td>11</td>\n",
              "    </tr>\n",
              "    <tr>\n",
              "      <th>96</th>\n",
              "      <td>A-97</td>\n",
              "      <td>MapQuest</td>\n",
              "      <td>201.0</td>\n",
              "      <td>3</td>\n",
              "      <td>2016-02-11 07:29:06</td>\n",
              "      <td>2016-02-11 08:18:10</td>\n",
              "      <td>41.355396</td>\n",
              "      <td>-81.819267</td>\n",
              "      <td>NaN</td>\n",
              "      <td>NaN</td>\n",
              "      <td>0.01</td>\n",
              "      <td>Accident on I-71 Northbound at Exit 234 US-42 ...</td>\n",
              "      <td>NaN</td>\n",
              "      <td>I-71 S</td>\n",
              "      <td>R</td>\n",
              "      <td>Cleveland</td>\n",
              "      <td>Cuyahoga</td>\n",
              "      <td>OH</td>\n",
              "      <td>44130</td>\n",
              "      <td>US</td>\n",
              "      <td>US/Eastern</td>\n",
              "      <td>KCLE</td>\n",
              "      <td>2016-02-11 07:51:00</td>\n",
              "      <td>15.1</td>\n",
              "      <td>-1.6</td>\n",
              "      <td>51.0</td>\n",
              "      <td>30.18</td>\n",
              "      <td>10.0</td>\n",
              "      <td>NW</td>\n",
              "      <td>18.4</td>\n",
              "      <td>NaN</td>\n",
              "      <td>Mostly Cloudy</td>\n",
              "      <td>False</td>\n",
              "      <td>False</td>\n",
              "      <td>False</td>\n",
              "      <td>False</td>\n",
              "      <td>False</td>\n",
              "      <td>False</td>\n",
              "      <td>False</td>\n",
              "      <td>False</td>\n",
              "      <td>False</td>\n",
              "      <td>False</td>\n",
              "      <td>False</td>\n",
              "      <td>False</td>\n",
              "      <td>False</td>\n",
              "      <td>Day</td>\n",
              "      <td>Day</td>\n",
              "      <td>Day</td>\n",
              "      <td>Day</td>\n",
              "      <td>7</td>\n",
              "      <td>3</td>\n",
              "      <td>2</td>\n",
              "      <td>2016</td>\n",
              "      <td>Thu Feb 11th, 2016</td>\n",
              "      <td>11</td>\n",
              "    </tr>\n",
              "    <tr>\n",
              "      <th>150</th>\n",
              "      <td>A-151</td>\n",
              "      <td>MapQuest</td>\n",
              "      <td>201.0</td>\n",
              "      <td>2</td>\n",
              "      <td>2016-02-15 07:37:49</td>\n",
              "      <td>2016-02-15 08:07:49</td>\n",
              "      <td>41.410461</td>\n",
              "      <td>-81.725853</td>\n",
              "      <td>NaN</td>\n",
              "      <td>NaN</td>\n",
              "      <td>0.00</td>\n",
              "      <td>Accident on Westlake Ave at Torrington Ave.</td>\n",
              "      <td>5847.0</td>\n",
              "      <td>Westlake Ave</td>\n",
              "      <td>L</td>\n",
              "      <td>Cleveland</td>\n",
              "      <td>Cuyahoga</td>\n",
              "      <td>OH</td>\n",
              "      <td>44129-2344</td>\n",
              "      <td>US</td>\n",
              "      <td>US/Eastern</td>\n",
              "      <td>KCLE</td>\n",
              "      <td>2016-02-15 07:51:00</td>\n",
              "      <td>21.0</td>\n",
              "      <td>9.3</td>\n",
              "      <td>85.0</td>\n",
              "      <td>30.10</td>\n",
              "      <td>4.0</td>\n",
              "      <td>SSE</td>\n",
              "      <td>11.5</td>\n",
              "      <td>0.0</td>\n",
              "      <td>Light Snow</td>\n",
              "      <td>False</td>\n",
              "      <td>False</td>\n",
              "      <td>False</td>\n",
              "      <td>False</td>\n",
              "      <td>False</td>\n",
              "      <td>False</td>\n",
              "      <td>False</td>\n",
              "      <td>False</td>\n",
              "      <td>False</td>\n",
              "      <td>False</td>\n",
              "      <td>False</td>\n",
              "      <td>False</td>\n",
              "      <td>False</td>\n",
              "      <td>Day</td>\n",
              "      <td>Day</td>\n",
              "      <td>Day</td>\n",
              "      <td>Day</td>\n",
              "      <td>7</td>\n",
              "      <td>0</td>\n",
              "      <td>2</td>\n",
              "      <td>2016</td>\n",
              "      <td>Mon Feb 15th, 2016</td>\n",
              "      <td>15</td>\n",
              "    </tr>\n",
              "    <tr>\n",
              "      <th>235</th>\n",
              "      <td>A-236</td>\n",
              "      <td>MapQuest</td>\n",
              "      <td>201.0</td>\n",
              "      <td>2</td>\n",
              "      <td>2016-02-18 06:27:59</td>\n",
              "      <td>2016-02-18 06:57:59</td>\n",
              "      <td>41.414131</td>\n",
              "      <td>-81.632141</td>\n",
              "      <td>NaN</td>\n",
              "      <td>NaN</td>\n",
              "      <td>0.01</td>\n",
              "      <td>Accident on OH-17 Granger Rd at Canal Rd. Expe...</td>\n",
              "      <td>7998.0</td>\n",
              "      <td>Granger Rd</td>\n",
              "      <td>R</td>\n",
              "      <td>Cleveland</td>\n",
              "      <td>Cuyahoga</td>\n",
              "      <td>OH</td>\n",
              "      <td>44125-4827</td>\n",
              "      <td>US</td>\n",
              "      <td>US/Eastern</td>\n",
              "      <td>KBKL</td>\n",
              "      <td>2016-02-18 06:53:00</td>\n",
              "      <td>19.0</td>\n",
              "      <td>11.1</td>\n",
              "      <td>71.0</td>\n",
              "      <td>30.52</td>\n",
              "      <td>10.0</td>\n",
              "      <td>SE</td>\n",
              "      <td>5.8</td>\n",
              "      <td>NaN</td>\n",
              "      <td>Clear</td>\n",
              "      <td>False</td>\n",
              "      <td>False</td>\n",
              "      <td>False</td>\n",
              "      <td>False</td>\n",
              "      <td>False</td>\n",
              "      <td>False</td>\n",
              "      <td>False</td>\n",
              "      <td>False</td>\n",
              "      <td>False</td>\n",
              "      <td>False</td>\n",
              "      <td>False</td>\n",
              "      <td>True</td>\n",
              "      <td>False</td>\n",
              "      <td>Night</td>\n",
              "      <td>Night</td>\n",
              "      <td>Day</td>\n",
              "      <td>Day</td>\n",
              "      <td>6</td>\n",
              "      <td>3</td>\n",
              "      <td>2</td>\n",
              "      <td>2016</td>\n",
              "      <td>Thu Feb 18th, 2016</td>\n",
              "      <td>18</td>\n",
              "    </tr>\n",
              "  </tbody>\n",
              "</table>\n",
              "</div>"
            ],
            "text/plain": [
              "        ID    Source    TMC  ...  Year                Date Monthday\n",
              "87    A-88  MapQuest  201.0  ...  2016  Thu Feb 11th, 2016       11\n",
              "91    A-92  MapQuest  201.0  ...  2016  Thu Feb 11th, 2016       11\n",
              "96    A-97  MapQuest  201.0  ...  2016  Thu Feb 11th, 2016       11\n",
              "150  A-151  MapQuest  201.0  ...  2016  Mon Feb 15th, 2016       15\n",
              "235  A-236  MapQuest  201.0  ...  2016  Thu Feb 18th, 2016       18\n",
              "\n",
              "[5 rows x 55 columns]"
            ]
          },
          "metadata": {
            "tags": []
          },
          "execution_count": 132
        }
      ]
    },
    {
      "cell_type": "markdown",
      "metadata": {
        "id": "zRpJar4XEyCs",
        "colab_type": "text"
      },
      "source": [
        "### Accidents per Year"
      ]
    },
    {
      "cell_type": "code",
      "metadata": {
        "id": "UjePQiB6QhHq",
        "colab_type": "code",
        "outputId": "20d112f5-129b-44a5-8101-520ee0be2285",
        "colab": {
          "base_uri": "https://localhost:8080/",
          "height": 434
        }
      },
      "source": [
        "plt.figure(figsize=(16,6))\n",
        "\n",
        "sns.countplot(data=df_accidents_cleveland,x='Year')\n",
        "plt.title('Distribution of Cleveland Accidents per Year', size= 20)\n",
        "plt.xlabel('Year', size=18)\n",
        "plt.ylabel('Number of Accidents', size=18)"
      ],
      "execution_count": 0,
      "outputs": [
        {
          "output_type": "execute_result",
          "data": {
            "text/plain": [
              "Text(0, 0.5, 'Number of Accidents')"
            ]
          },
          "metadata": {
            "tags": []
          },
          "execution_count": 133
        },
        {
          "output_type": "display_data",
          "data": {
            "image/png": "[encoded data removed]",
            "text/plain": [
              "<Figure size 1152x432 with 1 Axes>"
            ]
          },
          "metadata": {
            "tags": []
          }
        }
      ]
    },
    {
      "cell_type": "code",
      "metadata": {
        "id": "cgyzZlyMQgjI",
        "colab_type": "code",
        "outputId": "4bf4fe5a-38d3-446a-8c68-082bf8c73302",
        "colab": {
          "base_uri": "https://localhost:8080/",
          "height": 34
        }
      },
      "source": [
        "print('Comment:The number of accidents has almost doubled from 2016 to 2017 then from 2017 to 2018 before decreasing from 2018 to 2019')"
      ],
      "execution_count": 0,
      "outputs": [
        {
          "output_type": "stream",
          "text": [
            "Comment:The number of accidents has almost doubled from 2016 to 2017 then from 2017 to 2018 before decreasing from 2018 to 2019\n"
          ],
          "name": "stdout"
        }
      ]
    },
    {
      "cell_type": "markdown",
      "metadata": {
        "id": "UPTHJY8tFc-Z",
        "colab_type": "text"
      },
      "source": [
        "### Accidents per Month"
      ]
    },
    {
      "cell_type": "code",
      "metadata": {
        "id": "KaTGgTT3K-4M",
        "colab_type": "code",
        "outputId": "aadd6864-4679-41a5-b16a-cf7b996eed3f",
        "colab": {
          "base_uri": "https://localhost:8080/",
          "height": 434
        }
      },
      "source": [
        "plt.figure(figsize=(16,6))\n",
        "\n",
        "sns.countplot(data=df_accidents_cleveland,x='Month',palette='bright')\n",
        "plt.title('Distribution of Cleveland Accidents per Month', size= 20)\n",
        "plt.xlabel('Month', size=18)\n",
        "plt.xticks(ticks=[0,1,2,3,4,5,6,7,8,9,10,11],labels=['January','February','March','April','May','June','July','August','September','October','November','December'])\n",
        "plt.ylabel('Number of Accidents', size=18)"
      ],
      "execution_count": 0,
      "outputs": [
        {
          "output_type": "execute_result",
          "data": {
            "text/plain": [
              "Text(0, 0.5, 'Number of Accidents')"
            ]
          },
          "metadata": {
            "tags": []
          },
          "execution_count": 135
        },
        {
          "output_type": "display_data",
          "data": {
            "image/png": "[encoded data removed]",
            "text/plain": [
              "<Figure size 1152x432 with 1 Axes>"
            ]
          },
          "metadata": {
            "tags": []
          }
        }
      ]
    },
    {
      "cell_type": "code",
      "metadata": {
        "id": "8gQV2eSQUjmw",
        "colab_type": "code",
        "outputId": "5266c737-12b2-4fc9-c5d8-12de2ed50b05",
        "colab": {
          "base_uri": "https://localhost:8080/",
          "height": 34
        }
      },
      "source": [
        "print('Comment: Most accidents happen in October, followed by August. July is the month with less accidents.')"
      ],
      "execution_count": 0,
      "outputs": [
        {
          "output_type": "stream",
          "text": [
            "Comment: Most accidents happen in October, followed by August. July is the month with less accidents.\n"
          ],
          "name": "stdout"
        }
      ]
    },
    {
      "cell_type": "code",
      "metadata": {
        "id": "-_9KACJJbJKg",
        "colab_type": "code",
        "outputId": "d9a203ec-fcbd-4b53-ccc6-cc585134ab80",
        "colab": {
          "base_uri": "https://localhost:8080/",
          "height": 204
        }
      },
      "source": [
        "# matrix\n",
        "matrix_month = pd.pivot_table(data=df_accidents_cleveland,values='ID',index=['Year'],columns='Month',aggfunc='count')\n",
        "  # Replace the column with month number by the whole month name.\n",
        "matrix_month.columns = ['January','February','March','April','May','June','July','August','September','October','November','December']\n",
        "\n",
        "matrix_month"
      ],
      "execution_count": 0,
      "outputs": [
        {
          "output_type": "execute_result",
          "data": {
            "text/html": [
              "<div>\n",
              "<style scoped>\n",
              "    .dataframe tbody tr th:only-of-type {\n",
              "        vertical-align: middle;\n",
              "    }\n",
              "\n",
              "    .dataframe tbody tr th {\n",
              "        vertical-align: top;\n",
              "    }\n",
              "\n",
              "    .dataframe thead th {\n",
              "        text-align: right;\n",
              "    }\n",
              "</style>\n",
              "<table border=\"1\" class=\"dataframe\">\n",
              "  <thead>\n",
              "    <tr style=\"text-align: right;\">\n",
              "      <th></th>\n",
              "      <th>January</th>\n",
              "      <th>February</th>\n",
              "      <th>March</th>\n",
              "      <th>April</th>\n",
              "      <th>May</th>\n",
              "      <th>June</th>\n",
              "      <th>July</th>\n",
              "      <th>August</th>\n",
              "      <th>September</th>\n",
              "      <th>October</th>\n",
              "      <th>November</th>\n",
              "      <th>December</th>\n",
              "    </tr>\n",
              "    <tr>\n",
              "      <th>Year</th>\n",
              "      <th></th>\n",
              "      <th></th>\n",
              "      <th></th>\n",
              "      <th></th>\n",
              "      <th></th>\n",
              "      <th></th>\n",
              "      <th></th>\n",
              "      <th></th>\n",
              "      <th></th>\n",
              "      <th></th>\n",
              "      <th></th>\n",
              "      <th></th>\n",
              "    </tr>\n",
              "  </thead>\n",
              "  <tbody>\n",
              "    <tr>\n",
              "      <th>2016</th>\n",
              "      <td>NaN</td>\n",
              "      <td>58.0</td>\n",
              "      <td>52.0</td>\n",
              "      <td>54.0</td>\n",
              "      <td>36.0</td>\n",
              "      <td>40.0</td>\n",
              "      <td>32.0</td>\n",
              "      <td>52.0</td>\n",
              "      <td>41.0</td>\n",
              "      <td>30.0</td>\n",
              "      <td>37.0</td>\n",
              "      <td>63.0</td>\n",
              "    </tr>\n",
              "    <tr>\n",
              "      <th>2017</th>\n",
              "      <td>71.0</td>\n",
              "      <td>71.0</td>\n",
              "      <td>67.0</td>\n",
              "      <td>40.0</td>\n",
              "      <td>57.0</td>\n",
              "      <td>37.0</td>\n",
              "      <td>35.0</td>\n",
              "      <td>152.0</td>\n",
              "      <td>136.0</td>\n",
              "      <td>122.0</td>\n",
              "      <td>77.0</td>\n",
              "      <td>125.0</td>\n",
              "    </tr>\n",
              "    <tr>\n",
              "      <th>2018</th>\n",
              "      <td>151.0</td>\n",
              "      <td>136.0</td>\n",
              "      <td>156.0</td>\n",
              "      <td>148.0</td>\n",
              "      <td>132.0</td>\n",
              "      <td>147.0</td>\n",
              "      <td>128.0</td>\n",
              "      <td>142.0</td>\n",
              "      <td>117.0</td>\n",
              "      <td>214.0</td>\n",
              "      <td>170.0</td>\n",
              "      <td>124.0</td>\n",
              "    </tr>\n",
              "    <tr>\n",
              "      <th>2019</th>\n",
              "      <td>192.0</td>\n",
              "      <td>128.0</td>\n",
              "      <td>110.0</td>\n",
              "      <td>135.0</td>\n",
              "      <td>116.0</td>\n",
              "      <td>109.0</td>\n",
              "      <td>102.0</td>\n",
              "      <td>111.0</td>\n",
              "      <td>104.0</td>\n",
              "      <td>138.0</td>\n",
              "      <td>151.0</td>\n",
              "      <td>122.0</td>\n",
              "    </tr>\n",
              "  </tbody>\n",
              "</table>\n",
              "</div>"
            ],
            "text/plain": [
              "      January  February  March  April  ...  September  October  November  December\n",
              "Year                                   ...                                        \n",
              "2016      NaN      58.0   52.0   54.0  ...       41.0     30.0      37.0      63.0\n",
              "2017     71.0      71.0   67.0   40.0  ...      136.0    122.0      77.0     125.0\n",
              "2018    151.0     136.0  156.0  148.0  ...      117.0    214.0     170.0     124.0\n",
              "2019    192.0     128.0  110.0  135.0  ...      104.0    138.0     151.0     122.0\n",
              "\n",
              "[4 rows x 12 columns]"
            ]
          },
          "metadata": {
            "tags": []
          },
          "execution_count": 137
        }
      ]
    },
    {
      "cell_type": "code",
      "metadata": {
        "id": "kgYiExd-K-lc",
        "colab_type": "code",
        "outputId": "213327c9-1e42-42f0-b29e-830078ce89b9",
        "colab": {
          "base_uri": "https://localhost:8080/",
          "height": 479
        }
      },
      "source": [
        "fig,ax = plt.subplots(1,2,figsize=(20,6))\n",
        "\n",
        "# Evolution of Accidents over Months each year.\n",
        "  # when a serie is plotted, the values are the y and indexes are the x\n",
        "ax[0].plot(matrix_month.loc[2016],color='m',label='2016',linewidth=3,\n",
        "           linestyle='solid',marker='*',markersize=18, markerfacecolor='w',markeredgecolor='m',markeredgewidth='2')\n",
        "ax[0].plot(matrix_month.loc[2017],color='g',label='2017',linewidth=3,\n",
        "           linestyle='solid',marker='*',markersize=18, markerfacecolor='w',markeredgecolor='g',markeredgewidth='2')\n",
        "ax[0].plot(matrix_month.loc[2018],color='r',label='2018',linewidth=3,\n",
        "           linestyle='solid',marker='*',markersize=18, markerfacecolor='w',markeredgecolor='r',markeredgewidth='2')\n",
        "ax[0].plot(matrix_month.loc[2019],color='b',label='2019',linewidth=3,\n",
        "           linestyle='solid',marker='*',markersize=18, markerfacecolor='w',markeredgecolor='b',markeredgewidth='2')\n",
        "\n",
        "ax[0].legend(loc=0)\n",
        "ax[0].set_title('Evolution of Cleveland Accidents over Month each Year', size= 20)\n",
        "ax[0].set_xlabel('Month', size=18)\n",
        "ax[0].set_ylabel('Number of Accidents', size=18)\n",
        "\n",
        "# Heatmap\n",
        "sns.heatmap(matrix_month,cmap='coolwarm',linewidth=1,linecolor='black',ax=ax[1])\n",
        "ax[1].set_title('Cleveland Accidents Month_Year Heatmap', size= 20)\n",
        "ax[1].set_xlabel('Month', size=18)\n",
        "ax[1].set_ylabel('Year', size=18)"
      ],
      "execution_count": 0,
      "outputs": [
        {
          "output_type": "execute_result",
          "data": {
            "text/plain": [
              "Text(767.7272727272725, 0.5, 'Year')"
            ]
          },
          "metadata": {
            "tags": []
          },
          "execution_count": 138
        },
        {
          "output_type": "display_data",
          "data": {
            "image/png": "[encoded data removed]",
            "text/plain": [
              "<Figure size 1440x432 with 3 Axes>"
            ]
          },
          "metadata": {
            "tags": []
          }
        }
      ]
    },
    {
      "cell_type": "code",
      "metadata": {
        "id": "6-OnX91GXSEj",
        "colab_type": "code",
        "outputId": "3a75acb2-4935-42d9-f6c2-ffa4f5672ad4",
        "colab": {
          "base_uri": "https://localhost:8080/",
          "height": 51
        }
      },
      "source": [
        "print('Comment: October 2018 ({} accidents) and January 2019 ({} accidents) registered the most accidents\\\n",
        "\\nwhile October 2016 ({} accidents) and July 2016 ({} accidents) registered the less'.format(int(matrix_month.loc[2018,'October']),\n",
        "                                                                                              int(matrix_month.loc[2019,'January']),\n",
        "                                                                                              int(matrix_month.loc[2016,'October']),\n",
        "                                                                                              int(matrix_month.loc[2016,'July']))) "
      ],
      "execution_count": 0,
      "outputs": [
        {
          "output_type": "stream",
          "text": [
            "Comment: October 2018 (214 accidents) and January 2019 (192 accidents) registered the most accidents\n",
            "while October 2016 (30 accidents) and July 2016 (32 accidents) registered the less\n"
          ],
          "name": "stdout"
        }
      ]
    },
    {
      "cell_type": "code",
      "metadata": {
        "id": "Pv9YNaZFKEfT",
        "colab_type": "code",
        "outputId": "c06ae626-28d0-4dcc-f618-9cd33346b36c",
        "colab": {
          "base_uri": "https://localhost:8080/",
          "height": 179
        }
      },
      "source": [
        "# Evolution over months for the 4 years\n",
        "years = ['2016','2017','2018','2019']\n",
        "\n",
        "  # a df is created for each year with the number of accidents per month and then those df are concatenated on years\n",
        "df_evolution = pd.concat([matrix_month.loc[[2016]].rename(index={2016:'Number of Accidents'}),\n",
        "                         matrix_month.loc[[2017]].rename(index={2017:'Number of Accidents'}),\n",
        "                        matrix_month.loc[[2018]].rename(index={2018:'Number of Accidents'}),\n",
        "                        matrix_month.loc[[2019]].rename(index={2019:'Number of Accidents'})],\n",
        "                         keys=years,axis=1)\n",
        "df_evolution.index.name = 'Accidents'\n",
        "\n",
        "df_evolution"
      ],
      "execution_count": 0,
      "outputs": [
        {
          "output_type": "execute_result",
          "data": {
            "text/html": [
              "<div>\n",
              "<style scoped>\n",
              "    .dataframe tbody tr th:only-of-type {\n",
              "        vertical-align: middle;\n",
              "    }\n",
              "\n",
              "    .dataframe tbody tr th {\n",
              "        vertical-align: top;\n",
              "    }\n",
              "\n",
              "    .dataframe thead tr th {\n",
              "        text-align: left;\n",
              "    }\n",
              "\n",
              "    .dataframe thead tr:last-of-type th {\n",
              "        text-align: right;\n",
              "    }\n",
              "</style>\n",
              "<table border=\"1\" class=\"dataframe\">\n",
              "  <thead>\n",
              "    <tr>\n",
              "      <th></th>\n",
              "      <th colspan=\"12\" halign=\"left\">2016</th>\n",
              "      <th colspan=\"12\" halign=\"left\">2017</th>\n",
              "      <th colspan=\"12\" halign=\"left\">2018</th>\n",
              "      <th colspan=\"12\" halign=\"left\">2019</th>\n",
              "    </tr>\n",
              "    <tr>\n",
              "      <th></th>\n",
              "      <th>January</th>\n",
              "      <th>February</th>\n",
              "      <th>March</th>\n",
              "      <th>April</th>\n",
              "      <th>May</th>\n",
              "      <th>June</th>\n",
              "      <th>July</th>\n",
              "      <th>August</th>\n",
              "      <th>September</th>\n",
              "      <th>October</th>\n",
              "      <th>November</th>\n",
              "      <th>December</th>\n",
              "      <th>January</th>\n",
              "      <th>February</th>\n",
              "      <th>March</th>\n",
              "      <th>April</th>\n",
              "      <th>May</th>\n",
              "      <th>June</th>\n",
              "      <th>July</th>\n",
              "      <th>August</th>\n",
              "      <th>September</th>\n",
              "      <th>October</th>\n",
              "      <th>November</th>\n",
              "      <th>December</th>\n",
              "      <th>January</th>\n",
              "      <th>February</th>\n",
              "      <th>March</th>\n",
              "      <th>April</th>\n",
              "      <th>May</th>\n",
              "      <th>June</th>\n",
              "      <th>July</th>\n",
              "      <th>August</th>\n",
              "      <th>September</th>\n",
              "      <th>October</th>\n",
              "      <th>November</th>\n",
              "      <th>December</th>\n",
              "      <th>January</th>\n",
              "      <th>February</th>\n",
              "      <th>March</th>\n",
              "      <th>April</th>\n",
              "      <th>May</th>\n",
              "      <th>June</th>\n",
              "      <th>July</th>\n",
              "      <th>August</th>\n",
              "      <th>September</th>\n",
              "      <th>October</th>\n",
              "      <th>November</th>\n",
              "      <th>December</th>\n",
              "    </tr>\n",
              "    <tr>\n",
              "      <th>Accidents</th>\n",
              "      <th></th>\n",
              "      <th></th>\n",
              "      <th></th>\n",
              "      <th></th>\n",
              "      <th></th>\n",
              "      <th></th>\n",
              "      <th></th>\n",
              "      <th></th>\n",
              "      <th></th>\n",
              "      <th></th>\n",
              "      <th></th>\n",
              "      <th></th>\n",
              "      <th></th>\n",
              "      <th></th>\n",
              "      <th></th>\n",
              "      <th></th>\n",
              "      <th></th>\n",
              "      <th></th>\n",
              "      <th></th>\n",
              "      <th></th>\n",
              "      <th></th>\n",
              "      <th></th>\n",
              "      <th></th>\n",
              "      <th></th>\n",
              "      <th></th>\n",
              "      <th></th>\n",
              "      <th></th>\n",
              "      <th></th>\n",
              "      <th></th>\n",
              "      <th></th>\n",
              "      <th></th>\n",
              "      <th></th>\n",
              "      <th></th>\n",
              "      <th></th>\n",
              "      <th></th>\n",
              "      <th></th>\n",
              "      <th></th>\n",
              "      <th></th>\n",
              "      <th></th>\n",
              "      <th></th>\n",
              "      <th></th>\n",
              "      <th></th>\n",
              "      <th></th>\n",
              "      <th></th>\n",
              "      <th></th>\n",
              "      <th></th>\n",
              "      <th></th>\n",
              "      <th></th>\n",
              "    </tr>\n",
              "  </thead>\n",
              "  <tbody>\n",
              "    <tr>\n",
              "      <th>Number of Accidents</th>\n",
              "      <td>NaN</td>\n",
              "      <td>58.0</td>\n",
              "      <td>52.0</td>\n",
              "      <td>54.0</td>\n",
              "      <td>36.0</td>\n",
              "      <td>40.0</td>\n",
              "      <td>32.0</td>\n",
              "      <td>52.0</td>\n",
              "      <td>41.0</td>\n",
              "      <td>30.0</td>\n",
              "      <td>37.0</td>\n",
              "      <td>63.0</td>\n",
              "      <td>71.0</td>\n",
              "      <td>71.0</td>\n",
              "      <td>67.0</td>\n",
              "      <td>40.0</td>\n",
              "      <td>57.0</td>\n",
              "      <td>37.0</td>\n",
              "      <td>35.0</td>\n",
              "      <td>152.0</td>\n",
              "      <td>136.0</td>\n",
              "      <td>122.0</td>\n",
              "      <td>77.0</td>\n",
              "      <td>125.0</td>\n",
              "      <td>151.0</td>\n",
              "      <td>136.0</td>\n",
              "      <td>156.0</td>\n",
              "      <td>148.0</td>\n",
              "      <td>132.0</td>\n",
              "      <td>147.0</td>\n",
              "      <td>128.0</td>\n",
              "      <td>142.0</td>\n",
              "      <td>117.0</td>\n",
              "      <td>214.0</td>\n",
              "      <td>170.0</td>\n",
              "      <td>124.0</td>\n",
              "      <td>192.0</td>\n",
              "      <td>128.0</td>\n",
              "      <td>110.0</td>\n",
              "      <td>135.0</td>\n",
              "      <td>116.0</td>\n",
              "      <td>109.0</td>\n",
              "      <td>102.0</td>\n",
              "      <td>111.0</td>\n",
              "      <td>104.0</td>\n",
              "      <td>138.0</td>\n",
              "      <td>151.0</td>\n",
              "      <td>122.0</td>\n",
              "    </tr>\n",
              "  </tbody>\n",
              "</table>\n",
              "</div>"
            ],
            "text/plain": [
              "                       2016                 ...    2019                  \n",
              "                    January February March  ... October November December\n",
              "Accidents                                   ...                          \n",
              "Number of Accidents     NaN     58.0  52.0  ...   138.0    151.0    122.0\n",
              "\n",
              "[1 rows x 48 columns]"
            ]
          },
          "metadata": {
            "tags": []
          },
          "execution_count": 140
        }
      ]
    },
    {
      "cell_type": "code",
      "metadata": {
        "id": "99ynK6pHKEGN",
        "colab_type": "code",
        "colab": {}
      },
      "source": [
        "years = ['2016','2017','2018','2019']\n",
        "months = ['January','February','March','April','May','June','July','August','September','October','November','December']\n",
        "\n",
        "# returns a list in the format J16, F16, ..., N19,D19 for January 2016, February 2016,...,November 2019, December 2019.\n",
        "temp = []\n",
        "for y in years:\n",
        "  for m in months:\n",
        "    temp.append(m[0]+y[2:])\n",
        "    x_values= np.array(temp)\n",
        "\n",
        "y_values = df_evolution.loc['Number of Accidents'].values # only the values of the serie that has a multi-level index."
      ],
      "execution_count": 0,
      "outputs": []
    },
    {
      "cell_type": "code",
      "metadata": {
        "id": "DCjbYeyDaI5s",
        "colab_type": "code",
        "outputId": "3bd927a7-42f5-4b1e-a4e6-b162d0f7263d",
        "colab": {
          "base_uri": "https://localhost:8080/",
          "height": 416
        }
      },
      "source": [
        "plt.figure(figsize=(18,6))\n",
        "\n",
        "plt.plot(y_values,color='b',linewidth=3,linestyle='solid',marker='*',markersize=18, markerfacecolor='w',markeredgecolor='r',markeredgewidth='2')\n",
        "  # The 48 month names replace the value 0 - 48 which are the original ticks.\n",
        "plt.xticks(ticks=np.arange(0,49),labels=x_values); # the semi colon (;) at the end allows to hide the description output.\n",
        "plt.title('Evolution of Accidents per month from February 2016 to December 2019 in Cleveland',size=18)\n",
        "plt.xlabel('Month', size=18)\n",
        "plt.ylabel('Number of Accidents', size=18)\n",
        "matrix_month = pd.pivot_table(data=df_accidents_cleveland,values='ID',index=['Year'],columns='Month',aggfunc='count')"
      ],
      "execution_count": 0,
      "outputs": [
        {
          "output_type": "display_data",
          "data": {
            "image/png": "[encoded data removed]",
            "text/plain": [
              "<Figure size 1296x432 with 1 Axes>"
            ]
          },
          "metadata": {
            "tags": []
          }
        }
      ]
    },
    {
      "cell_type": "code",
      "metadata": {
        "id": "Ow1R-udwaE7a",
        "colab_type": "code",
        "outputId": "0a514545-87b6-4563-f969-491a4f199653",
        "colab": {
          "base_uri": "https://localhost:8080/",
          "height": 51
        }
      },
      "source": [
        "print('Comment: Since August 2017 when the number of accidents passed the threshold of 100 accidents per month, \\\n",
        "\\nit has always been there except for the month of November 2017')"
      ],
      "execution_count": 0,
      "outputs": [
        {
          "output_type": "stream",
          "text": [
            "Comment: Since August 2017 when the number of accidents passed the threshold of 100 accidents per month, \n",
            "it has always been there except for the month of November 2017\n"
          ],
          "name": "stdout"
        }
      ]
    },
    {
      "cell_type": "markdown",
      "metadata": {
        "id": "EmOFc7MPHQEz",
        "colab_type": "text"
      },
      "source": [
        "### Accidents per Day"
      ]
    },
    {
      "cell_type": "code",
      "metadata": {
        "id": "XjKy5iMEjXe6",
        "colab_type": "code",
        "outputId": "8f3bc945-163e-413d-c960-381e52f701ac",
        "colab": {
          "base_uri": "https://localhost:8080/",
          "height": 434
        }
      },
      "source": [
        "plt.figure(figsize=(16,6))\n",
        "\n",
        "sns.countplot(data=df_accidents_cleveland,x='Weekday',palette='bright')\n",
        "plt.title('Distribution of Cleveland Accidents per Day', size= 20)\n",
        "plt.xlabel('Month', size=18)\n",
        "plt.xticks(ticks=[0,1,2,3,4,5,6],labels=['Monday','Tuesday','Wednesday','Thursday','Friday','Saturday','Sunday'])\n",
        "plt.ylabel('Number of Accidents', size=18)"
      ],
      "execution_count": 0,
      "outputs": [
        {
          "output_type": "execute_result",
          "data": {
            "text/plain": [
              "Text(0, 0.5, 'Number of Accidents')"
            ]
          },
          "metadata": {
            "tags": []
          },
          "execution_count": 144
        },
        {
          "output_type": "display_data",
          "data": {
            "image/png": "[encoded data removed]",
            "text/plain": [
              "<Figure size 1152x432 with 1 Axes>"
            ]
          },
          "metadata": {
            "tags": []
          }
        }
      ]
    },
    {
      "cell_type": "code",
      "metadata": {
        "id": "j5ttlMiNjXO7",
        "colab_type": "code",
        "outputId": "71e69b94-cfc7-4696-996e-ecd4d5724ae4",
        "colab": {
          "base_uri": "https://localhost:8080/",
          "height": 34
        }
      },
      "source": [
        "print('Comment: Accidents occur less in weekend (Saturdays and sundays). They likely happen on Tuesdays.')"
      ],
      "execution_count": 0,
      "outputs": [
        {
          "output_type": "stream",
          "text": [
            "Comment: Accidents occur less in weekend (Saturdays and sundays). They likely happen on Tuesdays.\n"
          ],
          "name": "stdout"
        }
      ]
    },
    {
      "cell_type": "code",
      "metadata": {
        "id": "RSEEFDQHWWaj",
        "colab_type": "code",
        "outputId": "b3c7e20f-261f-4c26-d8e5-6b391339aadc",
        "colab": {
          "base_uri": "https://localhost:8080/",
          "height": 204
        }
      },
      "source": [
        "# Heatmap of accidents per day\n",
        "matrix_day = pd.pivot_table(data=df_accidents_cleveland,values='ID',index=['Year'],columns='Weekday',aggfunc='count')\n",
        "matrix_day.columns = ['Monday','Tuesday','Wednesday','Thursday','Friday','Saturday','Sunday']\n",
        "\n",
        "matrix_day"
      ],
      "execution_count": 0,
      "outputs": [
        {
          "output_type": "execute_result",
          "data": {
            "text/html": [
              "<div>\n",
              "<style scoped>\n",
              "    .dataframe tbody tr th:only-of-type {\n",
              "        vertical-align: middle;\n",
              "    }\n",
              "\n",
              "    .dataframe tbody tr th {\n",
              "        vertical-align: top;\n",
              "    }\n",
              "\n",
              "    .dataframe thead th {\n",
              "        text-align: right;\n",
              "    }\n",
              "</style>\n",
              "<table border=\"1\" class=\"dataframe\">\n",
              "  <thead>\n",
              "    <tr style=\"text-align: right;\">\n",
              "      <th></th>\n",
              "      <th>Monday</th>\n",
              "      <th>Tuesday</th>\n",
              "      <th>Wednesday</th>\n",
              "      <th>Thursday</th>\n",
              "      <th>Friday</th>\n",
              "      <th>Saturday</th>\n",
              "      <th>Sunday</th>\n",
              "    </tr>\n",
              "    <tr>\n",
              "      <th>Year</th>\n",
              "      <th></th>\n",
              "      <th></th>\n",
              "      <th></th>\n",
              "      <th></th>\n",
              "      <th></th>\n",
              "      <th></th>\n",
              "      <th></th>\n",
              "    </tr>\n",
              "  </thead>\n",
              "  <tbody>\n",
              "    <tr>\n",
              "      <th>2016</th>\n",
              "      <td>89</td>\n",
              "      <td>97</td>\n",
              "      <td>85</td>\n",
              "      <td>131</td>\n",
              "      <td>79</td>\n",
              "      <td>7</td>\n",
              "      <td>7</td>\n",
              "    </tr>\n",
              "    <tr>\n",
              "      <th>2017</th>\n",
              "      <td>162</td>\n",
              "      <td>216</td>\n",
              "      <td>174</td>\n",
              "      <td>216</td>\n",
              "      <td>187</td>\n",
              "      <td>16</td>\n",
              "      <td>19</td>\n",
              "    </tr>\n",
              "    <tr>\n",
              "      <th>2018</th>\n",
              "      <td>318</td>\n",
              "      <td>385</td>\n",
              "      <td>356</td>\n",
              "      <td>299</td>\n",
              "      <td>335</td>\n",
              "      <td>25</td>\n",
              "      <td>47</td>\n",
              "    </tr>\n",
              "    <tr>\n",
              "      <th>2019</th>\n",
              "      <td>287</td>\n",
              "      <td>337</td>\n",
              "      <td>302</td>\n",
              "      <td>308</td>\n",
              "      <td>256</td>\n",
              "      <td>11</td>\n",
              "      <td>17</td>\n",
              "    </tr>\n",
              "  </tbody>\n",
              "</table>\n",
              "</div>"
            ],
            "text/plain": [
              "      Monday  Tuesday  Wednesday  Thursday  Friday  Saturday  Sunday\n",
              "Year                                                                \n",
              "2016      89       97         85       131      79         7       7\n",
              "2017     162      216        174       216     187        16      19\n",
              "2018     318      385        356       299     335        25      47\n",
              "2019     287      337        302       308     256        11      17"
            ]
          },
          "metadata": {
            "tags": []
          },
          "execution_count": 146
        }
      ]
    },
    {
      "cell_type": "code",
      "metadata": {
        "id": "ifapcAon0_o-",
        "colab_type": "code",
        "outputId": "cdd536c7-e699-463e-d420-b5419e1ff946",
        "colab": {
          "base_uri": "https://localhost:8080/",
          "height": 434
        }
      },
      "source": [
        "# Distribution of accidents over years and days using Seaborn visualization.\n",
        "fig,ax = plt.subplots(1,2,figsize=(20,6))\n",
        "\n",
        "sns.countplot(data=df_accidents_cleveland,x='Weekday',hue='Year',ax=ax[0])\n",
        "ax[0].set_title('Distribution of Cleveland Accidents per Day and Year', size= 20)\n",
        "ax[0].set_xlabel('Day', size=18)\n",
        "ax[0].set_ylabel('Number of Accidents', size=18)\n",
        "\n",
        "sns.heatmap(matrix_day,cmap='coolwarm',linewidth=1,linecolor='white',ax=ax[1])\n",
        "ax[1].set_title('Cleveland Accidents Day_Year Heatmap', size= 20)\n",
        "ax[1].set_xlabel('Day', size=18)\n",
        "ax[1].set_ylabel('Year', size=18)"
      ],
      "execution_count": 0,
      "outputs": [
        {
          "output_type": "execute_result",
          "data": {
            "text/plain": [
              "Text(767.7272727272725, 0.5, 'Year')"
            ]
          },
          "metadata": {
            "tags": []
          },
          "execution_count": 147
        },
        {
          "output_type": "display_data",
          "data": {
            "image/png": "[encoded data removed]",
            "text/plain": [
              "<Figure size 1440x432 with 3 Axes>"
            ]
          },
          "metadata": {
            "tags": []
          }
        }
      ]
    },
    {
      "cell_type": "code",
      "metadata": {
        "id": "yY5p6n4c0_ap",
        "colab_type": "code",
        "outputId": "87687b2c-4638-4783-cfeb-9dbbf5c89a47",
        "colab": {
          "base_uri": "https://localhost:8080/",
          "height": 34
        }
      },
      "source": [
        "print('Comment: Except for the year 2016 when it was Thursday, Tuesday is the day when accidents likely happen.')"
      ],
      "execution_count": 164,
      "outputs": [
        {
          "output_type": "stream",
          "text": [
            "Comment: Except for the year 2016 when it was Thursday, Tuesday is the day when accidents likely happen.\n"
          ],
          "name": "stdout"
        }
      ]
    },
    {
      "cell_type": "code",
      "metadata": {
        "id": "gJuB6Vba-QWo",
        "colab_type": "code",
        "outputId": "22857481-13b8-4acc-898a-32d18ca6ba44",
        "colab": {
          "base_uri": "https://localhost:8080/",
          "height": 119
        }
      },
      "source": [
        "# a serie giving the number of accidents that happen each day.\n",
        "accidents_per_day = df_accidents_cleveland['Date'].value_counts()\n",
        "accidents_per_day.head(5)"
      ],
      "execution_count": 165,
      "outputs": [
        {
          "output_type": "execute_result",
          "data": {
            "text/plain": [
              "Fri Jan 12th, 2018    22\n",
              "Thu Apr 05th, 2018    22\n",
              "Wed Mar 06th, 2019    20\n",
              "Fri Oct 12th, 2018    20\n",
              "Tue Aug 21st, 2018    18\n",
              "Name: Date, dtype: int64"
            ]
          },
          "metadata": {
            "tags": []
          },
          "execution_count": 165
        }
      ]
    },
    {
      "cell_type": "code",
      "metadata": {
        "id": "KHpVNvNm-QMk",
        "colab_type": "code",
        "colab": {
          "base_uri": "https://localhost:8080/",
          "height": 359
        },
        "outputId": "0a869fea-66aa-40fb-dbef-b90a5d941773"
      },
      "source": [
        "# Create the DataFrame accidents per day.\n",
        "df_accidents_per_day = pd.DataFrame({'Date': accidents_per_day.index,'Number of Accidents': accidents_per_day.values})\n",
        "\n",
        "# Add the column Percentage to the DataFrame.\n",
        "df_accidents_per_day['Percentage'] = df_accidents_per_day['Number of Accidents'].\\\n",
        "                                        apply(lambda x: '{:05.2f}'.format(x/len(accidents_per_day)*100))\n",
        "                                        \n",
        "# Display the top 10 Days that registered the most accidents.\n",
        "rank = np.arange(1,11)\n",
        "df_top10_days = df_accidents_per_day.head(10).set_index(rank)\n",
        "df_top10_days"
      ],
      "execution_count": 168,
      "outputs": [
        {
          "output_type": "execute_result",
          "data": {
            "text/html": [
              "<div>\n",
              "<style scoped>\n",
              "    .dataframe tbody tr th:only-of-type {\n",
              "        vertical-align: middle;\n",
              "    }\n",
              "\n",
              "    .dataframe tbody tr th {\n",
              "        vertical-align: top;\n",
              "    }\n",
              "\n",
              "    .dataframe thead th {\n",
              "        text-align: right;\n",
              "    }\n",
              "</style>\n",
              "<table border=\"1\" class=\"dataframe\">\n",
              "  <thead>\n",
              "    <tr style=\"text-align: right;\">\n",
              "      <th></th>\n",
              "      <th>Date</th>\n",
              "      <th>Number of Accidents</th>\n",
              "      <th>Percentage</th>\n",
              "    </tr>\n",
              "  </thead>\n",
              "  <tbody>\n",
              "    <tr>\n",
              "      <th>1</th>\n",
              "      <td>Fri Jan 12th, 2018</td>\n",
              "      <td>22</td>\n",
              "      <td>02.17</td>\n",
              "    </tr>\n",
              "    <tr>\n",
              "      <th>2</th>\n",
              "      <td>Thu Apr 05th, 2018</td>\n",
              "      <td>22</td>\n",
              "      <td>02.17</td>\n",
              "    </tr>\n",
              "    <tr>\n",
              "      <th>3</th>\n",
              "      <td>Wed Mar 06th, 2019</td>\n",
              "      <td>20</td>\n",
              "      <td>01.97</td>\n",
              "    </tr>\n",
              "    <tr>\n",
              "      <th>4</th>\n",
              "      <td>Fri Oct 12th, 2018</td>\n",
              "      <td>20</td>\n",
              "      <td>01.97</td>\n",
              "    </tr>\n",
              "    <tr>\n",
              "      <th>5</th>\n",
              "      <td>Tue Aug 21st, 2018</td>\n",
              "      <td>18</td>\n",
              "      <td>01.77</td>\n",
              "    </tr>\n",
              "    <tr>\n",
              "      <th>6</th>\n",
              "      <td>Mon Dec 18th, 2017</td>\n",
              "      <td>18</td>\n",
              "      <td>01.77</td>\n",
              "    </tr>\n",
              "    <tr>\n",
              "      <th>7</th>\n",
              "      <td>Mon Jul 09th, 2018</td>\n",
              "      <td>18</td>\n",
              "      <td>01.77</td>\n",
              "    </tr>\n",
              "    <tr>\n",
              "      <th>8</th>\n",
              "      <td>Fri Sep 08th, 2017</td>\n",
              "      <td>18</td>\n",
              "      <td>01.77</td>\n",
              "    </tr>\n",
              "    <tr>\n",
              "      <th>9</th>\n",
              "      <td>Thu Jan 24th, 2019</td>\n",
              "      <td>18</td>\n",
              "      <td>01.77</td>\n",
              "    </tr>\n",
              "    <tr>\n",
              "      <th>10</th>\n",
              "      <td>Wed Mar 21st, 2018</td>\n",
              "      <td>18</td>\n",
              "      <td>01.77</td>\n",
              "    </tr>\n",
              "  </tbody>\n",
              "</table>\n",
              "</div>"
            ],
            "text/plain": [
              "                  Date  Number of Accidents Percentage\n",
              "1   Fri Jan 12th, 2018                   22      02.17\n",
              "2   Thu Apr 05th, 2018                   22      02.17\n",
              "3   Wed Mar 06th, 2019                   20      01.97\n",
              "4   Fri Oct 12th, 2018                   20      01.97\n",
              "5   Tue Aug 21st, 2018                   18      01.77\n",
              "6   Mon Dec 18th, 2017                   18      01.77\n",
              "7   Mon Jul 09th, 2018                   18      01.77\n",
              "8   Fri Sep 08th, 2017                   18      01.77\n",
              "9   Thu Jan 24th, 2019                   18      01.77\n",
              "10  Wed Mar 21st, 2018                   18      01.77"
            ]
          },
          "metadata": {
            "tags": []
          },
          "execution_count": 168
        }
      ]
    },
    {
      "cell_type": "code",
      "metadata": {
        "id": "gVtwOMy6-Plu",
        "colab_type": "code",
        "outputId": "896b8c24-5f4c-4879-8d2b-e9c2360f55c2",
        "colab": {
          "base_uri": "https://localhost:8080/",
          "height": 525
        }
      },
      "source": [
        "# Visualization of the 10 days when accidents happen the most using pandas bult-in visualization\n",
        "plt.figure(figsize=(18,6))\n",
        "df_days = df_top10_days.set_index('Date')\n",
        "\n",
        "color = (\"blue\", \"forestgreen\", \"gold\", \"red\", \"purple\",'cadetblue','hotpink','orange','darksalmon','brown')\n",
        "\n",
        "df_days['Number of Accidents'].plot.bar(color=color)\n",
        "plt.title(\"Top 10 Days with the most Accidents\",size=20)\n",
        "plt.xlabel('Day',size=18)\n",
        "plt.ylabel('Number of Accidents',size=18)"
      ],
      "execution_count": 0,
      "outputs": [
        {
          "output_type": "execute_result",
          "data": {
            "text/plain": [
              "Text(0, 0.5, 'Number of Accidents')"
            ]
          },
          "metadata": {
            "tags": []
          },
          "execution_count": 153
        },
        {
          "output_type": "display_data",
          "data": {
            "image/png": "[encoded data removed]",
            "text/plain": [
              "<Figure size 1296x432 with 1 Axes>"
            ]
          },
          "metadata": {
            "tags": []
          }
        }
      ]
    },
    {
      "cell_type": "code",
      "metadata": {
        "id": "Bi8IjUvNauwB",
        "colab_type": "code",
        "outputId": "113018b5-e964-48fa-a305-d1d4ee931dd2",
        "colab": {
          "base_uri": "https://localhost:8080/",
          "height": 34
        }
      },
      "source": [
        "total_days = len(accidents_per_day)\n",
        "total_accidents = accidents_per_day.values.sum()\n",
        "daily_average = total_accidents/total_days\n",
        "\n",
        "print('While the daily average for accident is about {}, each day of the top ten days registers about 5 times the average.'.format(int(daily_average)))"
      ],
      "execution_count": 0,
      "outputs": [
        {
          "output_type": "stream",
          "text": [
            "While the daily average for accident is about 4, each day of the top ten days registers about 5 times the average.\n"
          ],
          "name": "stdout"
        }
      ]
    },
    {
      "cell_type": "markdown",
      "metadata": {
        "id": "AuimfbJvIFSJ",
        "colab_type": "text"
      },
      "source": [
        "### Accidents per Hour"
      ]
    },
    {
      "cell_type": "code",
      "metadata": {
        "id": "Y4VZND0Efnqu",
        "colab_type": "code",
        "outputId": "7c6928f7-f2ff-4270-a9e4-b0d40514895a",
        "colab": {
          "base_uri": "https://localhost:8080/",
          "height": 434
        }
      },
      "source": [
        "plt.figure(figsize=(16,6))\n",
        "\n",
        "sns.countplot(data=df_accidents_cleveland,x='Hour',palette='bright')\n",
        "plt.title('Distribution of Cleveland Accidents per Hour', size= 20)\n",
        "plt.xlabel('Hour', size=18)\n",
        "#plt.xticks(ticks=[0,1,2,3,4,5,6],labels=['Monday','Tuesday','Wednesday','Thursday','Friday','Saturday','Sunday'])\n",
        "plt.ylabel('Number of Accidents', size=18)"
      ],
      "execution_count": 0,
      "outputs": [
        {
          "output_type": "execute_result",
          "data": {
            "text/plain": [
              "Text(0, 0.5, 'Number of Accidents')"
            ]
          },
          "metadata": {
            "tags": []
          },
          "execution_count": 155
        },
        {
          "output_type": "display_data",
          "data": {
            "image/png": "[encoded data removed]",
            "text/plain": [
              "<Figure size 1152x432 with 1 Axes>"
            ]
          },
          "metadata": {
            "tags": []
          }
        }
      ]
    },
    {
      "cell_type": "code",
      "metadata": {
        "id": "aBoiq2qIfnaR",
        "colab_type": "code",
        "outputId": "fc63d160-91ea-4bf9-ebf1-f51488538c0f",
        "colab": {
          "base_uri": "https://localhost:8080/",
          "height": 34
        }
      },
      "source": [
        "print('Comment: The large majority of accidents happen around 7 and 8 am.')"
      ],
      "execution_count": 0,
      "outputs": [
        {
          "output_type": "stream",
          "text": [
            "Comment: The large majority of accidents happen around 7 and 8 am.\n"
          ],
          "name": "stdout"
        }
      ]
    },
    {
      "cell_type": "code",
      "metadata": {
        "id": "P3rXBsaL0_I-",
        "colab_type": "code",
        "outputId": "8dc44c27-29d1-4449-8600-1b4eefc4839d",
        "colab": {
          "base_uri": "https://localhost:8080/",
          "height": 328
        }
      },
      "source": [
        "# Using seaborn catplot to display two charts side by side like the facetgrid\n",
        "g= sns.catplot(data=df_accidents_cleveland,x='Hour',col='Year',kind='count',height=4, aspect=1,palette='bright')\n",
        "g.set_titles(size=18)\n",
        "g.set_xlabels(size=18)\n",
        "g.set_ylabels('Number of Accidents',size=18)"
      ],
      "execution_count": 0,
      "outputs": [
        {
          "output_type": "execute_result",
          "data": {
            "text/plain": [
              "<seaborn.axisgrid.FacetGrid at 0x7fe9f697eef0>"
            ]
          },
          "metadata": {
            "tags": []
          },
          "execution_count": 177
        },
        {
          "output_type": "display_data",
          "data": {
            "image/png": "[encoded data removed]",
            "text/plain": [
              "<Figure size 1152x288 with 4 Axes>"
            ]
          },
          "metadata": {
            "tags": []
          }
        }
      ]
    },
    {
      "cell_type": "code",
      "metadata": {
        "id": "W7MBfEP10-5e",
        "colab_type": "code",
        "outputId": "75c5d96b-9230-4ef3-ef2a-03e42a431207",
        "colab": {
          "base_uri": "https://localhost:8080/",
          "height": 71
        }
      },
      "source": [
        "print('Except 2016, the 3 other years show the same trends: Accidents mostly happen in the morning and occur around 7 and 8 am.\\nSince we already saw that accidents mostly occur on week days,\\\n",
        "we can conclude that accident happen during morning rush hours when people are on their way to work.')"
      ],
      "execution_count": 0,
      "outputs": [
        {
          "output_type": "stream",
          "text": [
            "Except 2016, the 3 other years show the same trends: Accidents mostly happen in the morning and occur around 7 and 8 am.\n",
            "Since we already saw that accidents mostly occur on week days,we can conclude that accident happen during morning rush hours when people are on their way to work.\n"
          ],
          "name": "stdout"
        }
      ]
    },
    {
      "cell_type": "code",
      "metadata": {
        "id": "Th66eWQr0-tc",
        "colab_type": "code",
        "outputId": "6bcb8256-71f7-4b28-f3c5-f131bcf151cf",
        "colab": {
          "base_uri": "https://localhost:8080/",
          "height": 204
        }
      },
      "source": [
        "# Heatmap of accidents per Hour\n",
        "matrix_hour = pd.pivot_table(data=df_accidents_cleveland,values='ID',index=['Year'],columns='Hour',aggfunc='count')\n",
        "\n",
        "matrix_hour"
      ],
      "execution_count": 0,
      "outputs": [
        {
          "output_type": "execute_result",
          "data": {
            "text/html": [
              "<div>\n",
              "<style scoped>\n",
              "    .dataframe tbody tr th:only-of-type {\n",
              "        vertical-align: middle;\n",
              "    }\n",
              "\n",
              "    .dataframe tbody tr th {\n",
              "        vertical-align: top;\n",
              "    }\n",
              "\n",
              "    .dataframe thead th {\n",
              "        text-align: right;\n",
              "    }\n",
              "</style>\n",
              "<table border=\"1\" class=\"dataframe\">\n",
              "  <thead>\n",
              "    <tr style=\"text-align: right;\">\n",
              "      <th>Hour</th>\n",
              "      <th>0</th>\n",
              "      <th>1</th>\n",
              "      <th>2</th>\n",
              "      <th>3</th>\n",
              "      <th>4</th>\n",
              "      <th>5</th>\n",
              "      <th>6</th>\n",
              "      <th>7</th>\n",
              "      <th>8</th>\n",
              "      <th>9</th>\n",
              "      <th>10</th>\n",
              "      <th>11</th>\n",
              "      <th>12</th>\n",
              "      <th>13</th>\n",
              "      <th>14</th>\n",
              "      <th>15</th>\n",
              "      <th>16</th>\n",
              "      <th>17</th>\n",
              "      <th>18</th>\n",
              "      <th>19</th>\n",
              "      <th>20</th>\n",
              "      <th>21</th>\n",
              "      <th>22</th>\n",
              "      <th>23</th>\n",
              "    </tr>\n",
              "    <tr>\n",
              "      <th>Year</th>\n",
              "      <th></th>\n",
              "      <th></th>\n",
              "      <th></th>\n",
              "      <th></th>\n",
              "      <th></th>\n",
              "      <th></th>\n",
              "      <th></th>\n",
              "      <th></th>\n",
              "      <th></th>\n",
              "      <th></th>\n",
              "      <th></th>\n",
              "      <th></th>\n",
              "      <th></th>\n",
              "      <th></th>\n",
              "      <th></th>\n",
              "      <th></th>\n",
              "      <th></th>\n",
              "      <th></th>\n",
              "      <th></th>\n",
              "      <th></th>\n",
              "      <th></th>\n",
              "      <th></th>\n",
              "      <th></th>\n",
              "      <th></th>\n",
              "    </tr>\n",
              "  </thead>\n",
              "  <tbody>\n",
              "    <tr>\n",
              "      <th>2016</th>\n",
              "      <td>NaN</td>\n",
              "      <td>2.0</td>\n",
              "      <td>1.0</td>\n",
              "      <td>2.0</td>\n",
              "      <td>5.0</td>\n",
              "      <td>6.0</td>\n",
              "      <td>32.0</td>\n",
              "      <td>48.0</td>\n",
              "      <td>61.0</td>\n",
              "      <td>43.0</td>\n",
              "      <td>20.0</td>\n",
              "      <td>13.0</td>\n",
              "      <td>25.0</td>\n",
              "      <td>11.0</td>\n",
              "      <td>20.0</td>\n",
              "      <td>30.0</td>\n",
              "      <td>40.0</td>\n",
              "      <td>59.0</td>\n",
              "      <td>46.0</td>\n",
              "      <td>13.0</td>\n",
              "      <td>7.0</td>\n",
              "      <td>8.0</td>\n",
              "      <td>1.0</td>\n",
              "      <td>2.0</td>\n",
              "    </tr>\n",
              "    <tr>\n",
              "      <th>2017</th>\n",
              "      <td>3.0</td>\n",
              "      <td>3.0</td>\n",
              "      <td>1.0</td>\n",
              "      <td>1.0</td>\n",
              "      <td>23.0</td>\n",
              "      <td>27.0</td>\n",
              "      <td>92.0</td>\n",
              "      <td>201.0</td>\n",
              "      <td>181.0</td>\n",
              "      <td>58.0</td>\n",
              "      <td>24.0</td>\n",
              "      <td>27.0</td>\n",
              "      <td>34.0</td>\n",
              "      <td>14.0</td>\n",
              "      <td>31.0</td>\n",
              "      <td>33.0</td>\n",
              "      <td>48.0</td>\n",
              "      <td>73.0</td>\n",
              "      <td>73.0</td>\n",
              "      <td>15.0</td>\n",
              "      <td>14.0</td>\n",
              "      <td>7.0</td>\n",
              "      <td>4.0</td>\n",
              "      <td>3.0</td>\n",
              "    </tr>\n",
              "    <tr>\n",
              "      <th>2018</th>\n",
              "      <td>NaN</td>\n",
              "      <td>1.0</td>\n",
              "      <td>7.0</td>\n",
              "      <td>6.0</td>\n",
              "      <td>94.0</td>\n",
              "      <td>90.0</td>\n",
              "      <td>177.0</td>\n",
              "      <td>392.0</td>\n",
              "      <td>324.0</td>\n",
              "      <td>49.0</td>\n",
              "      <td>52.0</td>\n",
              "      <td>43.0</td>\n",
              "      <td>36.0</td>\n",
              "      <td>18.0</td>\n",
              "      <td>41.0</td>\n",
              "      <td>62.0</td>\n",
              "      <td>91.0</td>\n",
              "      <td>134.0</td>\n",
              "      <td>73.0</td>\n",
              "      <td>43.0</td>\n",
              "      <td>19.0</td>\n",
              "      <td>7.0</td>\n",
              "      <td>3.0</td>\n",
              "      <td>3.0</td>\n",
              "    </tr>\n",
              "    <tr>\n",
              "      <th>2019</th>\n",
              "      <td>2.0</td>\n",
              "      <td>NaN</td>\n",
              "      <td>NaN</td>\n",
              "      <td>1.0</td>\n",
              "      <td>81.0</td>\n",
              "      <td>80.0</td>\n",
              "      <td>169.0</td>\n",
              "      <td>391.0</td>\n",
              "      <td>341.0</td>\n",
              "      <td>32.0</td>\n",
              "      <td>56.0</td>\n",
              "      <td>51.0</td>\n",
              "      <td>17.0</td>\n",
              "      <td>14.0</td>\n",
              "      <td>29.0</td>\n",
              "      <td>28.0</td>\n",
              "      <td>53.0</td>\n",
              "      <td>78.0</td>\n",
              "      <td>65.0</td>\n",
              "      <td>23.0</td>\n",
              "      <td>6.0</td>\n",
              "      <td>NaN</td>\n",
              "      <td>1.0</td>\n",
              "      <td>NaN</td>\n",
              "    </tr>\n",
              "  </tbody>\n",
              "</table>\n",
              "</div>"
            ],
            "text/plain": [
              "Hour   0    1    2    3     4     5   ...    18    19    20   21   22   23\n",
              "Year                                  ...                                 \n",
              "2016  NaN  2.0  1.0  2.0   5.0   6.0  ...  46.0  13.0   7.0  8.0  1.0  2.0\n",
              "2017  3.0  3.0  1.0  1.0  23.0  27.0  ...  73.0  15.0  14.0  7.0  4.0  3.0\n",
              "2018  NaN  1.0  7.0  6.0  94.0  90.0  ...  73.0  43.0  19.0  7.0  3.0  3.0\n",
              "2019  2.0  NaN  NaN  1.0  81.0  80.0  ...  65.0  23.0   6.0  NaN  1.0  NaN\n",
              "\n",
              "[4 rows x 24 columns]"
            ]
          },
          "metadata": {
            "tags": []
          },
          "execution_count": 204
        }
      ]
    },
    {
      "cell_type": "code",
      "metadata": {
        "id": "7sXOfBjP09n1",
        "colab_type": "code",
        "outputId": "bab16dde-b4f2-45b3-b81d-dc3a8cce2fc1",
        "colab": {
          "base_uri": "https://localhost:8080/",
          "height": 434
        }
      },
      "source": [
        "# Distribution of accidents per Hour using Seaborn visualization.\n",
        "fig,ax = plt.subplots(1,2,figsize=(20,6))\n",
        "\n",
        "sns.countplot(data=df_accidents_cleveland,x='Hour',hue='Year',ax=ax[0])\n",
        "ax[0].set_title('Distribution of Cleveland Accidents per Hour and Year', size= 20)\n",
        "ax[0].set_xlabel('Hour', size=18)\n",
        "ax[0].set_ylabel('Number of Accidents', size=18)\n",
        "\n",
        "sns.heatmap(matrix_hour,cmap='coolwarm',linewidth=1,linecolor='black',ax=ax[1])\n",
        "ax[1].set_title('Cleveland Accidents Hour_Year Heatmap', size= 20)\n",
        "ax[1].set_xlabel('Hour', size=18)\n",
        "ax[1].set_ylabel('Year', size=18)"
      ],
      "execution_count": 0,
      "outputs": [
        {
          "output_type": "execute_result",
          "data": {
            "text/plain": [
              "Text(767.7272727272725, 0.5, 'Year')"
            ]
          },
          "metadata": {
            "tags": []
          },
          "execution_count": 181
        },
        {
          "output_type": "display_data",
          "data": {
            "image/png": "[encoded data removed]",
            "text/plain": [
              "<Figure size 1440x432 with 3 Axes>"
            ]
          },
          "metadata": {
            "tags": []
          }
        }
      ]
    },
    {
      "cell_type": "code",
      "metadata": {
        "id": "-smAqgBe09gM",
        "colab_type": "code",
        "outputId": "00db5e3c-7288-485f-e1c3-f858538f8184",
        "colab": {
          "base_uri": "https://localhost:8080/",
          "height": 34
        }
      },
      "source": [
        "print('Comment: The heatmap shows clearly that the accidents happen mostly around 7 and 8 am for 2017, 2018 and 2019.')"
      ],
      "execution_count": 0,
      "outputs": [
        {
          "output_type": "stream",
          "text": [
            "Comment: The heatmap shows clearly that the accidents happen mostly around 7 and 8 am for 2017, 2018 and 2019.\n"
          ],
          "name": "stdout"
        }
      ]
    },
    {
      "cell_type": "code",
      "metadata": {
        "id": "3StpXGUvfYI1",
        "colab_type": "code",
        "colab": {}
      },
      "source": [
        ""
      ],
      "execution_count": 0,
      "outputs": []
    }
  ]
}